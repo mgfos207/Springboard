{
 "cells": [
  {
   "cell_type": "code",
   "execution_count": 1,
   "metadata": {},
   "outputs": [],
   "source": [
    "import numpy as np\n",
    "import pandas as pd\n",
    "import matplotlib.pyplot as plt\n",
    "import seaborn as sns\n",
    "from scipy import stats"
   ]
  },
  {
   "cell_type": "code",
   "execution_count": 2,
   "metadata": {},
   "outputs": [
    {
     "data": {
      "text/html": [
       "<div>\n",
       "<style scoped>\n",
       "    .dataframe tbody tr th:only-of-type {\n",
       "        vertical-align: middle;\n",
       "    }\n",
       "\n",
       "    .dataframe tbody tr th {\n",
       "        vertical-align: top;\n",
       "    }\n",
       "\n",
       "    .dataframe thead th {\n",
       "        text-align: right;\n",
       "    }\n",
       "</style>\n",
       "<table border=\"1\" class=\"dataframe\">\n",
       "  <thead>\n",
       "    <tr style=\"text-align: right;\">\n",
       "      <th></th>\n",
       "      <th>object_id</th>\n",
       "      <th>creation_time</th>\n",
       "      <th>name</th>\n",
       "      <th>email</th>\n",
       "      <th>creation_source</th>\n",
       "      <th>last_session_creation_time</th>\n",
       "      <th>opted_in_to_mailing_list</th>\n",
       "      <th>enabled_for_marketing_drip</th>\n",
       "      <th>org_id</th>\n",
       "      <th>invited_by_user_id</th>\n",
       "    </tr>\n",
       "  </thead>\n",
       "  <tbody>\n",
       "    <tr>\n",
       "      <th>0</th>\n",
       "      <td>1</td>\n",
       "      <td>2014-04-22 03:53:30</td>\n",
       "      <td>Clausen August</td>\n",
       "      <td>AugustCClausen@yahoo.com</td>\n",
       "      <td>GUEST_INVITE</td>\n",
       "      <td>1.398139e+09</td>\n",
       "      <td>1</td>\n",
       "      <td>0</td>\n",
       "      <td>11</td>\n",
       "      <td>10803.0</td>\n",
       "    </tr>\n",
       "    <tr>\n",
       "      <th>1</th>\n",
       "      <td>2</td>\n",
       "      <td>2013-11-15 03:45:04</td>\n",
       "      <td>Poole Matthew</td>\n",
       "      <td>MatthewPoole@gustr.com</td>\n",
       "      <td>ORG_INVITE</td>\n",
       "      <td>1.396238e+09</td>\n",
       "      <td>0</td>\n",
       "      <td>0</td>\n",
       "      <td>1</td>\n",
       "      <td>316.0</td>\n",
       "    </tr>\n",
       "    <tr>\n",
       "      <th>2</th>\n",
       "      <td>3</td>\n",
       "      <td>2013-03-19 23:14:52</td>\n",
       "      <td>Bottrill Mitchell</td>\n",
       "      <td>MitchellBottrill@gustr.com</td>\n",
       "      <td>ORG_INVITE</td>\n",
       "      <td>1.363735e+09</td>\n",
       "      <td>0</td>\n",
       "      <td>0</td>\n",
       "      <td>94</td>\n",
       "      <td>1525.0</td>\n",
       "    </tr>\n",
       "    <tr>\n",
       "      <th>3</th>\n",
       "      <td>4</td>\n",
       "      <td>2013-05-21 08:09:28</td>\n",
       "      <td>Clausen Nicklas</td>\n",
       "      <td>NicklasSClausen@yahoo.com</td>\n",
       "      <td>GUEST_INVITE</td>\n",
       "      <td>1.369210e+09</td>\n",
       "      <td>0</td>\n",
       "      <td>0</td>\n",
       "      <td>1</td>\n",
       "      <td>5151.0</td>\n",
       "    </tr>\n",
       "    <tr>\n",
       "      <th>4</th>\n",
       "      <td>5</td>\n",
       "      <td>2013-01-17 10:14:20</td>\n",
       "      <td>Raw Grace</td>\n",
       "      <td>GraceRaw@yahoo.com</td>\n",
       "      <td>GUEST_INVITE</td>\n",
       "      <td>1.358850e+09</td>\n",
       "      <td>0</td>\n",
       "      <td>0</td>\n",
       "      <td>193</td>\n",
       "      <td>5240.0</td>\n",
       "    </tr>\n",
       "  </tbody>\n",
       "</table>\n",
       "</div>"
      ],
      "text/plain": [
       "   object_id        creation_time               name  \\\n",
       "0          1  2014-04-22 03:53:30     Clausen August   \n",
       "1          2  2013-11-15 03:45:04      Poole Matthew   \n",
       "2          3  2013-03-19 23:14:52  Bottrill Mitchell   \n",
       "3          4  2013-05-21 08:09:28    Clausen Nicklas   \n",
       "4          5  2013-01-17 10:14:20          Raw Grace   \n",
       "\n",
       "                        email creation_source  last_session_creation_time  \\\n",
       "0    AugustCClausen@yahoo.com    GUEST_INVITE                1.398139e+09   \n",
       "1      MatthewPoole@gustr.com      ORG_INVITE                1.396238e+09   \n",
       "2  MitchellBottrill@gustr.com      ORG_INVITE                1.363735e+09   \n",
       "3   NicklasSClausen@yahoo.com    GUEST_INVITE                1.369210e+09   \n",
       "4          GraceRaw@yahoo.com    GUEST_INVITE                1.358850e+09   \n",
       "\n",
       "   opted_in_to_mailing_list  enabled_for_marketing_drip  org_id  \\\n",
       "0                         1                           0      11   \n",
       "1                         0                           0       1   \n",
       "2                         0                           0      94   \n",
       "3                         0                           0       1   \n",
       "4                         0                           0     193   \n",
       "\n",
       "   invited_by_user_id  \n",
       "0             10803.0  \n",
       "1               316.0  \n",
       "2              1525.0  \n",
       "3              5151.0  \n",
       "4              5240.0  "
      ]
     },
     "execution_count": 2,
     "metadata": {},
     "output_type": "execute_result"
    }
   ],
   "source": [
    "df_user = pd.read_csv(\"takehome_users.csv\", encoding = \"ISO-8859-1\")\n",
    "df_user.head()"
   ]
  },
  {
   "cell_type": "code",
   "execution_count": 3,
   "metadata": {},
   "outputs": [
    {
     "data": {
      "text/html": [
       "<div>\n",
       "<style scoped>\n",
       "    .dataframe tbody tr th:only-of-type {\n",
       "        vertical-align: middle;\n",
       "    }\n",
       "\n",
       "    .dataframe tbody tr th {\n",
       "        vertical-align: top;\n",
       "    }\n",
       "\n",
       "    .dataframe thead th {\n",
       "        text-align: right;\n",
       "    }\n",
       "</style>\n",
       "<table border=\"1\" class=\"dataframe\">\n",
       "  <thead>\n",
       "    <tr style=\"text-align: right;\">\n",
       "      <th></th>\n",
       "      <th>time_stamp</th>\n",
       "      <th>user_id</th>\n",
       "      <th>visited</th>\n",
       "    </tr>\n",
       "  </thead>\n",
       "  <tbody>\n",
       "    <tr>\n",
       "      <th>0</th>\n",
       "      <td>2014-04-22 03:53:30</td>\n",
       "      <td>1</td>\n",
       "      <td>1</td>\n",
       "    </tr>\n",
       "    <tr>\n",
       "      <th>1</th>\n",
       "      <td>2013-11-15 03:45:04</td>\n",
       "      <td>2</td>\n",
       "      <td>1</td>\n",
       "    </tr>\n",
       "    <tr>\n",
       "      <th>2</th>\n",
       "      <td>2013-11-29 03:45:04</td>\n",
       "      <td>2</td>\n",
       "      <td>1</td>\n",
       "    </tr>\n",
       "    <tr>\n",
       "      <th>3</th>\n",
       "      <td>2013-12-09 03:45:04</td>\n",
       "      <td>2</td>\n",
       "      <td>1</td>\n",
       "    </tr>\n",
       "    <tr>\n",
       "      <th>4</th>\n",
       "      <td>2013-12-25 03:45:04</td>\n",
       "      <td>2</td>\n",
       "      <td>1</td>\n",
       "    </tr>\n",
       "  </tbody>\n",
       "</table>\n",
       "</div>"
      ],
      "text/plain": [
       "            time_stamp  user_id  visited\n",
       "0  2014-04-22 03:53:30        1        1\n",
       "1  2013-11-15 03:45:04        2        1\n",
       "2  2013-11-29 03:45:04        2        1\n",
       "3  2013-12-09 03:45:04        2        1\n",
       "4  2013-12-25 03:45:04        2        1"
      ]
     },
     "execution_count": 3,
     "metadata": {},
     "output_type": "execute_result"
    }
   ],
   "source": [
    "df_user_suummary = pd.read_csv(\"takehome_user_engagement.csv\")\n",
    "df_user_suummary.head()"
   ]
  },
  {
   "cell_type": "code",
   "execution_count": 4,
   "metadata": {},
   "outputs": [
    {
     "data": {
      "text/plain": [
       "object_id                       int64\n",
       "creation_time                  object\n",
       "name                           object\n",
       "email                          object\n",
       "creation_source                object\n",
       "last_session_creation_time    float64\n",
       "opted_in_to_mailing_list        int64\n",
       "enabled_for_marketing_drip      int64\n",
       "org_id                          int64\n",
       "invited_by_user_id            float64\n",
       "dtype: object"
      ]
     },
     "execution_count": 4,
     "metadata": {},
     "output_type": "execute_result"
    }
   ],
   "source": [
    "df_user.dtypes"
   ]
  },
  {
   "cell_type": "code",
   "execution_count": 5,
   "metadata": {},
   "outputs": [
    {
     "data": {
      "text/plain": [
       "time_stamp    object\n",
       "user_id        int64\n",
       "visited        int64\n",
       "dtype: object"
      ]
     },
     "execution_count": 5,
     "metadata": {},
     "output_type": "execute_result"
    }
   ],
   "source": [
    "df_user_suummary.dtypes"
   ]
  },
  {
   "cell_type": "code",
   "execution_count": 6,
   "metadata": {},
   "outputs": [
    {
     "data": {
      "text/plain": [
       "object_id                        0\n",
       "creation_time                    0\n",
       "name                             0\n",
       "email                            0\n",
       "creation_source                  0\n",
       "last_session_creation_time    3177\n",
       "opted_in_to_mailing_list         0\n",
       "enabled_for_marketing_drip       0\n",
       "org_id                           0\n",
       "invited_by_user_id            5583\n",
       "dtype: int64"
      ]
     },
     "execution_count": 6,
     "metadata": {},
     "output_type": "execute_result"
    }
   ],
   "source": [
    "df_user.isna().sum()"
   ]
  },
  {
   "cell_type": "code",
   "execution_count": 7,
   "metadata": {},
   "outputs": [
    {
     "data": {
      "text/plain": [
       "time_stamp    0\n",
       "user_id       0\n",
       "visited       0\n",
       "dtype: int64"
      ]
     },
     "execution_count": 7,
     "metadata": {},
     "output_type": "execute_result"
    }
   ],
   "source": [
    "df_user_suummary.isna().sum()"
   ]
  },
  {
   "cell_type": "markdown",
   "metadata": {},
   "source": [
    "I'm going to guess that the adopted user are the ones that have been invited by a friend/coworker/colleague at least the majority of adopted users come from here. Let's investigate the data and test this idea."
   ]
  },
  {
   "cell_type": "code",
   "execution_count": 8,
   "metadata": {},
   "outputs": [],
   "source": [
    "df_user.rename(columns={'object_id':'user_id'}, inplace=True)"
   ]
  },
  {
   "cell_type": "code",
   "execution_count": 9,
   "metadata": {},
   "outputs": [
    {
     "data": {
      "text/plain": [
       "Index(['user_id', 'creation_time', 'name', 'email', 'creation_source',\n",
       "       'last_session_creation_time', 'opted_in_to_mailing_list',\n",
       "       'enabled_for_marketing_drip', 'org_id', 'invited_by_user_id'],\n",
       "      dtype='object')"
      ]
     },
     "execution_count": 9,
     "metadata": {},
     "output_type": "execute_result"
    }
   ],
   "source": [
    "df_user.columns"
   ]
  },
  {
   "cell_type": "code",
   "execution_count": 10,
   "metadata": {},
   "outputs": [
    {
     "data": {
      "text/html": [
       "<div>\n",
       "<style scoped>\n",
       "    .dataframe tbody tr th:only-of-type {\n",
       "        vertical-align: middle;\n",
       "    }\n",
       "\n",
       "    .dataframe tbody tr th {\n",
       "        vertical-align: top;\n",
       "    }\n",
       "\n",
       "    .dataframe thead th {\n",
       "        text-align: right;\n",
       "    }\n",
       "</style>\n",
       "<table border=\"1\" class=\"dataframe\">\n",
       "  <thead>\n",
       "    <tr style=\"text-align: right;\">\n",
       "      <th></th>\n",
       "      <th>user_id</th>\n",
       "      <th>creation_time</th>\n",
       "      <th>name</th>\n",
       "      <th>email</th>\n",
       "      <th>creation_source</th>\n",
       "      <th>last_session_creation_time</th>\n",
       "      <th>opted_in_to_mailing_list</th>\n",
       "      <th>enabled_for_marketing_drip</th>\n",
       "      <th>org_id</th>\n",
       "      <th>invited_by_user_id</th>\n",
       "      <th>time_stamp</th>\n",
       "      <th>visited</th>\n",
       "    </tr>\n",
       "  </thead>\n",
       "  <tbody>\n",
       "    <tr>\n",
       "      <th>0</th>\n",
       "      <td>1</td>\n",
       "      <td>2014-04-22 03:53:30</td>\n",
       "      <td>Clausen August</td>\n",
       "      <td>AugustCClausen@yahoo.com</td>\n",
       "      <td>GUEST_INVITE</td>\n",
       "      <td>1.398139e+09</td>\n",
       "      <td>1</td>\n",
       "      <td>0</td>\n",
       "      <td>11</td>\n",
       "      <td>10803.0</td>\n",
       "      <td>2014-04-22 03:53:30</td>\n",
       "      <td>1.0</td>\n",
       "    </tr>\n",
       "    <tr>\n",
       "      <th>1</th>\n",
       "      <td>2</td>\n",
       "      <td>2013-11-15 03:45:04</td>\n",
       "      <td>Poole Matthew</td>\n",
       "      <td>MatthewPoole@gustr.com</td>\n",
       "      <td>ORG_INVITE</td>\n",
       "      <td>1.396238e+09</td>\n",
       "      <td>0</td>\n",
       "      <td>0</td>\n",
       "      <td>1</td>\n",
       "      <td>316.0</td>\n",
       "      <td>2013-11-15 03:45:04</td>\n",
       "      <td>1.0</td>\n",
       "    </tr>\n",
       "    <tr>\n",
       "      <th>2</th>\n",
       "      <td>2</td>\n",
       "      <td>2013-11-15 03:45:04</td>\n",
       "      <td>Poole Matthew</td>\n",
       "      <td>MatthewPoole@gustr.com</td>\n",
       "      <td>ORG_INVITE</td>\n",
       "      <td>1.396238e+09</td>\n",
       "      <td>0</td>\n",
       "      <td>0</td>\n",
       "      <td>1</td>\n",
       "      <td>316.0</td>\n",
       "      <td>2013-11-29 03:45:04</td>\n",
       "      <td>1.0</td>\n",
       "    </tr>\n",
       "    <tr>\n",
       "      <th>3</th>\n",
       "      <td>2</td>\n",
       "      <td>2013-11-15 03:45:04</td>\n",
       "      <td>Poole Matthew</td>\n",
       "      <td>MatthewPoole@gustr.com</td>\n",
       "      <td>ORG_INVITE</td>\n",
       "      <td>1.396238e+09</td>\n",
       "      <td>0</td>\n",
       "      <td>0</td>\n",
       "      <td>1</td>\n",
       "      <td>316.0</td>\n",
       "      <td>2013-12-09 03:45:04</td>\n",
       "      <td>1.0</td>\n",
       "    </tr>\n",
       "    <tr>\n",
       "      <th>4</th>\n",
       "      <td>2</td>\n",
       "      <td>2013-11-15 03:45:04</td>\n",
       "      <td>Poole Matthew</td>\n",
       "      <td>MatthewPoole@gustr.com</td>\n",
       "      <td>ORG_INVITE</td>\n",
       "      <td>1.396238e+09</td>\n",
       "      <td>0</td>\n",
       "      <td>0</td>\n",
       "      <td>1</td>\n",
       "      <td>316.0</td>\n",
       "      <td>2013-12-25 03:45:04</td>\n",
       "      <td>1.0</td>\n",
       "    </tr>\n",
       "  </tbody>\n",
       "</table>\n",
       "</div>"
      ],
      "text/plain": [
       "   user_id        creation_time            name                     email  \\\n",
       "0        1  2014-04-22 03:53:30  Clausen August  AugustCClausen@yahoo.com   \n",
       "1        2  2013-11-15 03:45:04   Poole Matthew    MatthewPoole@gustr.com   \n",
       "2        2  2013-11-15 03:45:04   Poole Matthew    MatthewPoole@gustr.com   \n",
       "3        2  2013-11-15 03:45:04   Poole Matthew    MatthewPoole@gustr.com   \n",
       "4        2  2013-11-15 03:45:04   Poole Matthew    MatthewPoole@gustr.com   \n",
       "\n",
       "  creation_source  last_session_creation_time  opted_in_to_mailing_list  \\\n",
       "0    GUEST_INVITE                1.398139e+09                         1   \n",
       "1      ORG_INVITE                1.396238e+09                         0   \n",
       "2      ORG_INVITE                1.396238e+09                         0   \n",
       "3      ORG_INVITE                1.396238e+09                         0   \n",
       "4      ORG_INVITE                1.396238e+09                         0   \n",
       "\n",
       "   enabled_for_marketing_drip  org_id  invited_by_user_id  \\\n",
       "0                           0      11             10803.0   \n",
       "1                           0       1               316.0   \n",
       "2                           0       1               316.0   \n",
       "3                           0       1               316.0   \n",
       "4                           0       1               316.0   \n",
       "\n",
       "            time_stamp  visited  \n",
       "0  2014-04-22 03:53:30      1.0  \n",
       "1  2013-11-15 03:45:04      1.0  \n",
       "2  2013-11-29 03:45:04      1.0  \n",
       "3  2013-12-09 03:45:04      1.0  \n",
       "4  2013-12-25 03:45:04      1.0  "
      ]
     },
     "execution_count": 10,
     "metadata": {},
     "output_type": "execute_result"
    }
   ],
   "source": [
    "df_merged = df_user.merge(df_user_suummary, how='left', on='user_id')\n",
    "df_merged.head()"
   ]
  },
  {
   "cell_type": "code",
   "execution_count": 11,
   "metadata": {},
   "outputs": [
    {
     "data": {
      "text/plain": [
       "user_id                           0\n",
       "creation_time                     0\n",
       "name                              0\n",
       "email                             0\n",
       "creation_source                   0\n",
       "last_session_creation_time     3177\n",
       "opted_in_to_mailing_list          0\n",
       "enabled_for_marketing_drip        0\n",
       "org_id                            0\n",
       "invited_by_user_id            92566\n",
       "time_stamp                     3177\n",
       "visited                        3177\n",
       "dtype: int64"
      ]
     },
     "execution_count": 11,
     "metadata": {},
     "output_type": "execute_result"
    }
   ],
   "source": [
    "df_merged.isna().sum()"
   ]
  },
  {
   "cell_type": "code",
   "execution_count": 12,
   "metadata": {},
   "outputs": [
    {
     "data": {
      "text/plain": [
       "(211094, 12)"
      ]
     },
     "execution_count": 12,
     "metadata": {},
     "output_type": "execute_result"
    }
   ],
   "source": [
    "df_merged.shape"
   ]
  },
  {
   "cell_type": "markdown",
   "metadata": {},
   "source": [
    "Ok this is interesting already it appears that for our merged dataset that we have null values for invited by user id last session creation time timestamp and visited blank. I can understand invited feature having missing values since not everyone that comes to this platform neccessarily got invited. From the looks of it this field is missing the most. Let's see if we can do some feature engineering/imputation first to make sure we can view the data approriately via EDA."
   ]
  },
  {
   "cell_type": "code",
   "execution_count": 13,
   "metadata": {},
   "outputs": [
    {
     "data": {
      "text/plain": [
       "user_id                         int64\n",
       "creation_time                  object\n",
       "name                           object\n",
       "email                          object\n",
       "creation_source                object\n",
       "last_session_creation_time    float64\n",
       "opted_in_to_mailing_list        int64\n",
       "enabled_for_marketing_drip      int64\n",
       "org_id                          int64\n",
       "invited_by_user_id            float64\n",
       "time_stamp                     object\n",
       "visited                       float64\n",
       "dtype: object"
      ]
     },
     "execution_count": 13,
     "metadata": {},
     "output_type": "execute_result"
    }
   ],
   "source": [
    "df_merged.dtypes"
   ]
  },
  {
   "cell_type": "markdown",
   "metadata": {},
   "source": [
    "I think of top we can remove the name column I don't believe certain names or ids have a propensity to adopt the platform."
   ]
  },
  {
   "cell_type": "code",
   "execution_count": 14,
   "metadata": {},
   "outputs": [],
   "source": [
    "df_feat_subset = df_merged.loc[:, ~df_merged.columns.isin(['name'])]"
   ]
  },
  {
   "cell_type": "code",
   "execution_count": 15,
   "metadata": {},
   "outputs": [
    {
     "data": {
      "text/html": [
       "<div>\n",
       "<style scoped>\n",
       "    .dataframe tbody tr th:only-of-type {\n",
       "        vertical-align: middle;\n",
       "    }\n",
       "\n",
       "    .dataframe tbody tr th {\n",
       "        vertical-align: top;\n",
       "    }\n",
       "\n",
       "    .dataframe thead th {\n",
       "        text-align: right;\n",
       "    }\n",
       "</style>\n",
       "<table border=\"1\" class=\"dataframe\">\n",
       "  <thead>\n",
       "    <tr style=\"text-align: right;\">\n",
       "      <th></th>\n",
       "      <th>user_id</th>\n",
       "      <th>creation_time</th>\n",
       "      <th>email</th>\n",
       "      <th>creation_source</th>\n",
       "      <th>last_session_creation_time</th>\n",
       "      <th>opted_in_to_mailing_list</th>\n",
       "      <th>enabled_for_marketing_drip</th>\n",
       "      <th>org_id</th>\n",
       "      <th>invited_by_user_id</th>\n",
       "      <th>time_stamp</th>\n",
       "      <th>visited</th>\n",
       "    </tr>\n",
       "  </thead>\n",
       "  <tbody>\n",
       "    <tr>\n",
       "      <th>0</th>\n",
       "      <td>1</td>\n",
       "      <td>2014-04-22 03:53:30</td>\n",
       "      <td>AugustCClausen@yahoo.com</td>\n",
       "      <td>GUEST_INVITE</td>\n",
       "      <td>1.398139e+09</td>\n",
       "      <td>1</td>\n",
       "      <td>0</td>\n",
       "      <td>11</td>\n",
       "      <td>10803.0</td>\n",
       "      <td>2014-04-22 03:53:30</td>\n",
       "      <td>1.0</td>\n",
       "    </tr>\n",
       "    <tr>\n",
       "      <th>1</th>\n",
       "      <td>2</td>\n",
       "      <td>2013-11-15 03:45:04</td>\n",
       "      <td>MatthewPoole@gustr.com</td>\n",
       "      <td>ORG_INVITE</td>\n",
       "      <td>1.396238e+09</td>\n",
       "      <td>0</td>\n",
       "      <td>0</td>\n",
       "      <td>1</td>\n",
       "      <td>316.0</td>\n",
       "      <td>2013-11-15 03:45:04</td>\n",
       "      <td>1.0</td>\n",
       "    </tr>\n",
       "    <tr>\n",
       "      <th>2</th>\n",
       "      <td>2</td>\n",
       "      <td>2013-11-15 03:45:04</td>\n",
       "      <td>MatthewPoole@gustr.com</td>\n",
       "      <td>ORG_INVITE</td>\n",
       "      <td>1.396238e+09</td>\n",
       "      <td>0</td>\n",
       "      <td>0</td>\n",
       "      <td>1</td>\n",
       "      <td>316.0</td>\n",
       "      <td>2013-11-29 03:45:04</td>\n",
       "      <td>1.0</td>\n",
       "    </tr>\n",
       "    <tr>\n",
       "      <th>3</th>\n",
       "      <td>2</td>\n",
       "      <td>2013-11-15 03:45:04</td>\n",
       "      <td>MatthewPoole@gustr.com</td>\n",
       "      <td>ORG_INVITE</td>\n",
       "      <td>1.396238e+09</td>\n",
       "      <td>0</td>\n",
       "      <td>0</td>\n",
       "      <td>1</td>\n",
       "      <td>316.0</td>\n",
       "      <td>2013-12-09 03:45:04</td>\n",
       "      <td>1.0</td>\n",
       "    </tr>\n",
       "    <tr>\n",
       "      <th>4</th>\n",
       "      <td>2</td>\n",
       "      <td>2013-11-15 03:45:04</td>\n",
       "      <td>MatthewPoole@gustr.com</td>\n",
       "      <td>ORG_INVITE</td>\n",
       "      <td>1.396238e+09</td>\n",
       "      <td>0</td>\n",
       "      <td>0</td>\n",
       "      <td>1</td>\n",
       "      <td>316.0</td>\n",
       "      <td>2013-12-25 03:45:04</td>\n",
       "      <td>1.0</td>\n",
       "    </tr>\n",
       "  </tbody>\n",
       "</table>\n",
       "</div>"
      ],
      "text/plain": [
       "   user_id        creation_time                     email creation_source  \\\n",
       "0        1  2014-04-22 03:53:30  AugustCClausen@yahoo.com    GUEST_INVITE   \n",
       "1        2  2013-11-15 03:45:04    MatthewPoole@gustr.com      ORG_INVITE   \n",
       "2        2  2013-11-15 03:45:04    MatthewPoole@gustr.com      ORG_INVITE   \n",
       "3        2  2013-11-15 03:45:04    MatthewPoole@gustr.com      ORG_INVITE   \n",
       "4        2  2013-11-15 03:45:04    MatthewPoole@gustr.com      ORG_INVITE   \n",
       "\n",
       "   last_session_creation_time  opted_in_to_mailing_list  \\\n",
       "0                1.398139e+09                         1   \n",
       "1                1.396238e+09                         0   \n",
       "2                1.396238e+09                         0   \n",
       "3                1.396238e+09                         0   \n",
       "4                1.396238e+09                         0   \n",
       "\n",
       "   enabled_for_marketing_drip  org_id  invited_by_user_id  \\\n",
       "0                           0      11             10803.0   \n",
       "1                           0       1               316.0   \n",
       "2                           0       1               316.0   \n",
       "3                           0       1               316.0   \n",
       "4                           0       1               316.0   \n",
       "\n",
       "            time_stamp  visited  \n",
       "0  2014-04-22 03:53:30      1.0  \n",
       "1  2013-11-15 03:45:04      1.0  \n",
       "2  2013-11-29 03:45:04      1.0  \n",
       "3  2013-12-09 03:45:04      1.0  \n",
       "4  2013-12-25 03:45:04      1.0  "
      ]
     },
     "execution_count": 15,
     "metadata": {},
     "output_type": "execute_result"
    }
   ],
   "source": [
    "df_feat_subset.head()"
   ]
  },
  {
   "cell_type": "code",
   "execution_count": 16,
   "metadata": {},
   "outputs": [
    {
     "data": {
      "text/plain": [
       "(211094, 11)"
      ]
     },
     "execution_count": 16,
     "metadata": {},
     "output_type": "execute_result"
    }
   ],
   "source": [
    "df_feat_subset.shape"
   ]
  },
  {
   "cell_type": "code",
   "execution_count": 17,
   "metadata": {},
   "outputs": [
    {
     "data": {
      "text/plain": [
       "user_id                         int64\n",
       "creation_time                  object\n",
       "email                          object\n",
       "creation_source                object\n",
       "last_session_creation_time    float64\n",
       "opted_in_to_mailing_list        int64\n",
       "enabled_for_marketing_drip      int64\n",
       "org_id                          int64\n",
       "invited_by_user_id            float64\n",
       "time_stamp                     object\n",
       "visited                       float64\n",
       "dtype: object"
      ]
     },
     "execution_count": 17,
     "metadata": {},
     "output_type": "execute_result"
    }
   ],
   "source": [
    "df_feat_subset.dtypes"
   ]
  },
  {
   "cell_type": "code",
   "execution_count": 18,
   "metadata": {},
   "outputs": [
    {
     "data": {
      "text/plain": [
       "count                  211094\n",
       "unique                  11996\n",
       "top       2012-06-25 14:34:33\n",
       "freq                      606\n",
       "Name: creation_time, dtype: object"
      ]
     },
     "execution_count": 18,
     "metadata": {},
     "output_type": "execute_result"
    }
   ],
   "source": [
    "df_feat_subset['creation_time'].describe()"
   ]
  },
  {
   "cell_type": "code",
   "execution_count": 19,
   "metadata": {},
   "outputs": [],
   "source": [
    "def _convert_to_timestamp(attr):\n",
    "    return pd.Timestamp(attr).timestamp() if pd.notnull(attr) else -1\n",
    "df_feat_subset['creation_ts'] = df_feat_subset['creation_time'].apply(_convert_to_timestamp)"
   ]
  },
  {
   "cell_type": "code",
   "execution_count": 20,
   "metadata": {},
   "outputs": [
    {
     "data": {
      "text/plain": [
       "0         1.398139e+09\n",
       "1         1.384487e+09\n",
       "2         1.384487e+09\n",
       "3         1.384487e+09\n",
       "4         1.384487e+09\n",
       "              ...     \n",
       "211089    1.378448e+09\n",
       "211090    1.357843e+09\n",
       "211091    1.398603e+09\n",
       "211092    1.338465e+09\n",
       "211093    1.390727e+09\n",
       "Name: creation_ts, Length: 211094, dtype: float64"
      ]
     },
     "execution_count": 20,
     "metadata": {},
     "output_type": "execute_result"
    }
   ],
   "source": [
    "df_feat_subset['creation_ts']"
   ]
  },
  {
   "cell_type": "code",
   "execution_count": 21,
   "metadata": {},
   "outputs": [
    {
     "data": {
      "text/plain": [
       "0         1.398139e+09\n",
       "1         1.384487e+09\n",
       "2         1.385697e+09\n",
       "3         1.386561e+09\n",
       "4         1.387943e+09\n",
       "              ...     \n",
       "211089    1.378448e+09\n",
       "211090    1.358275e+09\n",
       "211091    1.398603e+09\n",
       "211092    1.338638e+09\n",
       "211093    1.390727e+09\n",
       "Name: timestamp_ts, Length: 211094, dtype: float64"
      ]
     },
     "execution_count": 21,
     "metadata": {},
     "output_type": "execute_result"
    }
   ],
   "source": [
    "df_feat_subset['timestamp_ts'] = df_feat_subset['time_stamp'].apply(_convert_to_timestamp)\n",
    "df_feat_subset['timestamp_ts']"
   ]
  },
  {
   "cell_type": "code",
   "execution_count": 22,
   "metadata": {},
   "outputs": [
    {
     "data": {
      "text/plain": [
       "user_id                         int64\n",
       "creation_time                  object\n",
       "email                          object\n",
       "creation_source                object\n",
       "last_session_creation_time    float64\n",
       "opted_in_to_mailing_list        int64\n",
       "enabled_for_marketing_drip      int64\n",
       "org_id                          int64\n",
       "invited_by_user_id            float64\n",
       "time_stamp                     object\n",
       "visited                       float64\n",
       "creation_ts                   float64\n",
       "timestamp_ts                  float64\n",
       "dtype: object"
      ]
     },
     "execution_count": 22,
     "metadata": {},
     "output_type": "execute_result"
    }
   ],
   "source": [
    "df_feat_subset.dtypes"
   ]
  },
  {
   "cell_type": "markdown",
   "metadata": {},
   "source": [
    "*****NOTE*****\n",
    "I think perhaps there is something to investigate for emails perhaps certain domains have a higher adoption rate (perhaps a SPAM filter is preventing certain email domains from adopting the platform maybe not). That can be the next steps or follow-up to this excercise."
   ]
  },
  {
   "cell_type": "code",
   "execution_count": 23,
   "metadata": {},
   "outputs": [
    {
     "data": {
      "text/plain": [
       "user_id                         int64\n",
       "creation_source                object\n",
       "last_session_creation_time    float64\n",
       "opted_in_to_mailing_list        int64\n",
       "enabled_for_marketing_drip      int64\n",
       "org_id                          int64\n",
       "invited_by_user_id            float64\n",
       "visited                       float64\n",
       "creation_ts                   float64\n",
       "timestamp_ts                  float64\n",
       "dtype: object"
      ]
     },
     "execution_count": 23,
     "metadata": {},
     "output_type": "execute_result"
    }
   ],
   "source": [
    "#Drop the redundant columns\n",
    "df_feat_subset.drop(columns=['creation_time', 'time_stamp', 'email'], inplace=True)\n",
    "df_feat_subset.dtypes"
   ]
  },
  {
   "cell_type": "markdown",
   "metadata": {},
   "source": [
    "Let's do some feature engineering for the creation source, maybe there is a correlation to the user adoption that we can explore further."
   ]
  },
  {
   "cell_type": "code",
   "execution_count": 25,
   "metadata": {},
   "outputs": [
    {
     "data": {
      "text/plain": [
       "array(['GUEST_INVITE', 'ORG_INVITE', 'SIGNUP', 'PERSONAL_PROJECTS',\n",
       "       'SIGNUP_GOOGLE_AUTH'], dtype=object)"
      ]
     },
     "execution_count": 25,
     "metadata": {},
     "output_type": "execute_result"
    }
   ],
   "source": [
    "df_feat_subset['creation_source'].unique()"
   ]
  },
  {
   "cell_type": "code",
   "execution_count": 24,
   "metadata": {},
   "outputs": [
    {
     "data": {
      "text/html": [
       "<div>\n",
       "<style scoped>\n",
       "    .dataframe tbody tr th:only-of-type {\n",
       "        vertical-align: middle;\n",
       "    }\n",
       "\n",
       "    .dataframe tbody tr th {\n",
       "        vertical-align: top;\n",
       "    }\n",
       "\n",
       "    .dataframe thead th {\n",
       "        text-align: right;\n",
       "    }\n",
       "</style>\n",
       "<table border=\"1\" class=\"dataframe\">\n",
       "  <thead>\n",
       "    <tr style=\"text-align: right;\">\n",
       "      <th></th>\n",
       "      <th>user_id</th>\n",
       "      <th>creation_source</th>\n",
       "      <th>last_session_creation_time</th>\n",
       "      <th>opted_in_to_mailing_list</th>\n",
       "      <th>enabled_for_marketing_drip</th>\n",
       "      <th>org_id</th>\n",
       "      <th>invited_by_user_id</th>\n",
       "      <th>visited</th>\n",
       "      <th>creation_ts</th>\n",
       "      <th>timestamp_ts</th>\n",
       "    </tr>\n",
       "  </thead>\n",
       "  <tbody>\n",
       "    <tr>\n",
       "      <th>0</th>\n",
       "      <td>1</td>\n",
       "      <td>GUEST_INVITE</td>\n",
       "      <td>1.398139e+09</td>\n",
       "      <td>1</td>\n",
       "      <td>0</td>\n",
       "      <td>11</td>\n",
       "      <td>10803.0</td>\n",
       "      <td>1.0</td>\n",
       "      <td>1.398139e+09</td>\n",
       "      <td>1.398139e+09</td>\n",
       "    </tr>\n",
       "    <tr>\n",
       "      <th>1</th>\n",
       "      <td>2</td>\n",
       "      <td>ORG_INVITE</td>\n",
       "      <td>1.396238e+09</td>\n",
       "      <td>0</td>\n",
       "      <td>0</td>\n",
       "      <td>1</td>\n",
       "      <td>316.0</td>\n",
       "      <td>1.0</td>\n",
       "      <td>1.384487e+09</td>\n",
       "      <td>1.384487e+09</td>\n",
       "    </tr>\n",
       "    <tr>\n",
       "      <th>2</th>\n",
       "      <td>2</td>\n",
       "      <td>ORG_INVITE</td>\n",
       "      <td>1.396238e+09</td>\n",
       "      <td>0</td>\n",
       "      <td>0</td>\n",
       "      <td>1</td>\n",
       "      <td>316.0</td>\n",
       "      <td>1.0</td>\n",
       "      <td>1.384487e+09</td>\n",
       "      <td>1.385697e+09</td>\n",
       "    </tr>\n",
       "    <tr>\n",
       "      <th>3</th>\n",
       "      <td>2</td>\n",
       "      <td>ORG_INVITE</td>\n",
       "      <td>1.396238e+09</td>\n",
       "      <td>0</td>\n",
       "      <td>0</td>\n",
       "      <td>1</td>\n",
       "      <td>316.0</td>\n",
       "      <td>1.0</td>\n",
       "      <td>1.384487e+09</td>\n",
       "      <td>1.386561e+09</td>\n",
       "    </tr>\n",
       "    <tr>\n",
       "      <th>4</th>\n",
       "      <td>2</td>\n",
       "      <td>ORG_INVITE</td>\n",
       "      <td>1.396238e+09</td>\n",
       "      <td>0</td>\n",
       "      <td>0</td>\n",
       "      <td>1</td>\n",
       "      <td>316.0</td>\n",
       "      <td>1.0</td>\n",
       "      <td>1.384487e+09</td>\n",
       "      <td>1.387943e+09</td>\n",
       "    </tr>\n",
       "  </tbody>\n",
       "</table>\n",
       "</div>"
      ],
      "text/plain": [
       "   user_id creation_source  last_session_creation_time  \\\n",
       "0        1    GUEST_INVITE                1.398139e+09   \n",
       "1        2      ORG_INVITE                1.396238e+09   \n",
       "2        2      ORG_INVITE                1.396238e+09   \n",
       "3        2      ORG_INVITE                1.396238e+09   \n",
       "4        2      ORG_INVITE                1.396238e+09   \n",
       "\n",
       "   opted_in_to_mailing_list  enabled_for_marketing_drip  org_id  \\\n",
       "0                         1                           0      11   \n",
       "1                         0                           0       1   \n",
       "2                         0                           0       1   \n",
       "3                         0                           0       1   \n",
       "4                         0                           0       1   \n",
       "\n",
       "   invited_by_user_id  visited   creation_ts  timestamp_ts  \n",
       "0             10803.0      1.0  1.398139e+09  1.398139e+09  \n",
       "1               316.0      1.0  1.384487e+09  1.384487e+09  \n",
       "2               316.0      1.0  1.384487e+09  1.385697e+09  \n",
       "3               316.0      1.0  1.384487e+09  1.386561e+09  \n",
       "4               316.0      1.0  1.384487e+09  1.387943e+09  "
      ]
     },
     "execution_count": 24,
     "metadata": {},
     "output_type": "execute_result"
    }
   ],
   "source": [
    "# df_dummy = pd.get_dummies(df_feat_subset)\n",
    "# df_dummy = df_dummy.merge(df_feat_subset[['user_id', 'creation_source']], how='left', on='user_id')\n",
    "df_dummy = df_feat_subset\n",
    "df_dummy.head()"
   ]
  },
  {
   "cell_type": "code",
   "execution_count": 25,
   "metadata": {},
   "outputs": [
    {
     "data": {
      "text/plain": [
       "user_id                         int64\n",
       "creation_source                object\n",
       "last_session_creation_time    float64\n",
       "opted_in_to_mailing_list        int64\n",
       "enabled_for_marketing_drip      int64\n",
       "org_id                          int64\n",
       "invited_by_user_id            float64\n",
       "visited                       float64\n",
       "creation_ts                   float64\n",
       "timestamp_ts                  float64\n",
       "dtype: object"
      ]
     },
     "execution_count": 25,
     "metadata": {},
     "output_type": "execute_result"
    }
   ],
   "source": [
    "df_dummy.dtypes"
   ]
  },
  {
   "cell_type": "markdown",
   "metadata": {},
   "source": [
    "Looking good let's look through this data and see what is the correlation between adoption and its features. But let's create a target varaible called adopted a binary boolean column that will derive its value from user's logging."
   ]
  },
  {
   "cell_type": "code",
   "execution_count": 26,
   "metadata": {},
   "outputs": [],
   "source": [
    "#Create a column that tracks logins by the day\n",
    "df_dummy['login_day'] = pd.to_datetime(df_dummy['timestamp_ts'],unit='s')"
   ]
  },
  {
   "cell_type": "code",
   "execution_count": 27,
   "metadata": {},
   "outputs": [
    {
     "data": {
      "text/plain": [
       "0        2014-04-22 03:53:30\n",
       "1        2013-11-15 03:45:04\n",
       "2        2013-11-29 03:45:04\n",
       "3        2013-12-09 03:45:04\n",
       "4        2013-12-25 03:45:04\n",
       "                 ...        \n",
       "211089   2013-09-06 06:14:15\n",
       "211090   2013-01-15 18:28:37\n",
       "211091   2014-04-27 12:45:16\n",
       "211092   2012-06-02 11:55:59\n",
       "211093   2014-01-26 08:57:12\n",
       "Name: login_day, Length: 211094, dtype: datetime64[ns]"
      ]
     },
     "execution_count": 27,
     "metadata": {},
     "output_type": "execute_result"
    }
   ],
   "source": [
    "df_dummy['login_day']"
   ]
  },
  {
   "cell_type": "code",
   "execution_count": 28,
   "metadata": {},
   "outputs": [
    {
     "data": {
      "text/plain": [
       "[numpy.datetime64('2014-04-22T03:53:30.000000000'),\n",
       " numpy.datetime64('2013-11-15T03:45:04.000000000'),\n",
       " numpy.datetime64('2013-11-29T03:45:04.000000000'),\n",
       " numpy.datetime64('2013-12-09T03:45:04.000000000'),\n",
       " numpy.datetime64('2013-12-25T03:45:04.000000000'),\n",
       " numpy.datetime64('2013-12-31T03:45:04.000000000'),\n",
       " numpy.datetime64('2014-01-08T03:45:04.000000000'),\n",
       " numpy.datetime64('2014-02-03T03:45:04.000000000'),\n",
       " numpy.datetime64('2014-02-08T03:45:04.000000000'),\n",
       " numpy.datetime64('2014-02-09T03:45:04.000000000'),\n",
       " numpy.datetime64('2014-02-13T03:45:04.000000000'),\n",
       " numpy.datetime64('2014-02-16T03:45:04.000000000'),\n",
       " numpy.datetime64('2014-03-09T03:45:04.000000000'),\n",
       " numpy.datetime64('2014-03-13T03:45:04.000000000'),\n",
       " numpy.datetime64('2014-03-31T03:45:04.000000000'),\n",
       " numpy.datetime64('2013-03-19T23:14:52.000000000'),\n",
       " numpy.datetime64('2013-05-22T08:09:28.000000000'),\n",
       " numpy.datetime64('2013-01-22T10:14:20.000000000'),\n",
       " numpy.datetime64('2013-12-19T03:37:06.000000000'),\n",
       " numpy.datetime64('2012-12-20T13:24:32.000000000'),\n",
       " numpy.datetime64('1969-12-31T23:59:59.000000000'),\n",
       " numpy.datetime64('2013-01-16T22:08:03.000000000'),\n",
       " numpy.datetime64('2013-01-22T22:08:03.000000000'),\n",
       " numpy.datetime64('2013-01-30T22:08:03.000000000'),\n",
       " numpy.datetime64('2013-02-04T22:08:03.000000000'),\n",
       " numpy.datetime64('2013-02-06T22:08:03.000000000'),\n",
       " numpy.datetime64('2013-02-14T22:08:03.000000000'),\n",
       " numpy.datetime64('2013-02-17T22:08:03.000000000'),\n",
       " numpy.datetime64('2013-02-19T22:08:03.000000000'),\n",
       " numpy.datetime64('2013-02-26T22:08:03.000000000'),\n",
       " numpy.datetime64('2013-03-01T22:08:03.000000000'),\n",
       " numpy.datetime64('2013-03-02T22:08:03.000000000'),\n",
       " numpy.datetime64('2013-03-05T22:08:03.000000000'),\n",
       " numpy.datetime64('2013-03-09T22:08:03.000000000'),\n",
       " numpy.datetime64('2013-03-15T22:08:03.000000000'),\n",
       " numpy.datetime64('2013-03-17T22:08:03.000000000'),\n",
       " numpy.datetime64('2013-03-20T22:08:03.000000000'),\n",
       " numpy.datetime64('2013-03-22T22:08:03.000000000'),\n",
       " numpy.datetime64('2013-03-26T22:08:03.000000000'),\n",
       " numpy.datetime64('2013-04-07T22:08:03.000000000'),\n",
       " numpy.datetime64('2013-04-11T22:08:03.000000000'),\n",
       " numpy.datetime64('2013-04-13T22:08:03.000000000'),\n",
       " numpy.datetime64('2013-04-14T22:08:03.000000000'),\n",
       " numpy.datetime64('2013-04-17T22:08:03.000000000'),\n",
       " numpy.datetime64('2013-04-19T22:08:03.000000000'),\n",
       " numpy.datetime64('2013-04-24T22:08:03.000000000'),\n",
       " numpy.datetime64('2013-04-26T22:08:03.000000000'),\n",
       " numpy.datetime64('2013-04-27T22:08:03.000000000'),\n",
       " numpy.datetime64('2013-04-30T22:08:03.000000000'),\n",
       " numpy.datetime64('2013-05-01T22:08:03.000000000'),\n",
       " numpy.datetime64('2013-05-02T22:08:03.000000000'),\n",
       " numpy.datetime64('2013-05-03T22:08:03.000000000'),\n",
       " numpy.datetime64('2013-05-06T22:08:03.000000000'),\n",
       " numpy.datetime64('2013-05-07T22:08:03.000000000'),\n",
       " numpy.datetime64('2013-05-08T22:08:03.000000000'),\n",
       " numpy.datetime64('2013-05-10T22:08:03.000000000'),\n",
       " numpy.datetime64('2013-05-12T22:08:03.000000000'),\n",
       " numpy.datetime64('2013-05-15T22:08:03.000000000'),\n",
       " numpy.datetime64('2013-05-17T22:08:03.000000000'),\n",
       " numpy.datetime64('2013-05-18T22:08:03.000000000'),\n",
       " numpy.datetime64('2013-05-23T22:08:03.000000000'),\n",
       " numpy.datetime64('2013-05-24T22:08:03.000000000'),\n",
       " numpy.datetime64('2013-05-27T22:08:03.000000000'),\n",
       " numpy.datetime64('2013-05-29T22:08:03.000000000'),\n",
       " numpy.datetime64('2013-06-03T22:08:03.000000000'),\n",
       " numpy.datetime64('2013-06-04T22:08:03.000000000'),\n",
       " numpy.datetime64('2013-06-07T22:08:03.000000000'),\n",
       " numpy.datetime64('2013-06-09T22:08:03.000000000'),\n",
       " numpy.datetime64('2013-06-10T22:08:03.000000000'),\n",
       " numpy.datetime64('2013-06-11T22:08:03.000000000'),\n",
       " numpy.datetime64('2013-06-13T22:08:03.000000000'),\n",
       " numpy.datetime64('2013-06-15T22:08:03.000000000'),\n",
       " numpy.datetime64('2013-06-16T22:08:03.000000000'),\n",
       " numpy.datetime64('2013-06-17T22:08:03.000000000'),\n",
       " numpy.datetime64('2013-06-18T22:08:03.000000000'),\n",
       " numpy.datetime64('2013-06-22T22:08:03.000000000'),\n",
       " numpy.datetime64('2013-06-26T22:08:03.000000000'),\n",
       " numpy.datetime64('2013-06-28T22:08:03.000000000'),\n",
       " numpy.datetime64('2013-06-30T22:08:03.000000000'),\n",
       " numpy.datetime64('2013-07-03T22:08:03.000000000'),\n",
       " numpy.datetime64('2013-07-04T22:08:03.000000000'),\n",
       " numpy.datetime64('2013-07-05T22:08:03.000000000'),\n",
       " numpy.datetime64('2013-07-06T22:08:03.000000000'),\n",
       " numpy.datetime64('2013-07-08T22:08:03.000000000'),\n",
       " numpy.datetime64('2013-07-09T22:08:03.000000000'),\n",
       " numpy.datetime64('2013-07-13T22:08:03.000000000'),\n",
       " numpy.datetime64('2013-07-16T22:08:03.000000000'),\n",
       " numpy.datetime64('2013-07-17T22:08:03.000000000'),\n",
       " numpy.datetime64('2013-07-18T22:08:03.000000000'),\n",
       " numpy.datetime64('2013-07-20T22:08:03.000000000'),\n",
       " numpy.datetime64('2013-07-21T22:08:03.000000000'),\n",
       " numpy.datetime64('2013-07-22T22:08:03.000000000'),\n",
       " numpy.datetime64('2013-07-24T22:08:03.000000000'),\n",
       " numpy.datetime64('2013-07-25T22:08:03.000000000'),\n",
       " numpy.datetime64('2013-07-28T22:08:03.000000000'),\n",
       " numpy.datetime64('2013-07-29T22:08:03.000000000'),\n",
       " numpy.datetime64('2013-07-30T22:08:03.000000000'),\n",
       " numpy.datetime64('2013-08-02T22:08:03.000000000'),\n",
       " numpy.datetime64('2013-08-03T22:08:03.000000000'),\n",
       " numpy.datetime64('2013-08-04T22:08:03.000000000'),\n",
       " numpy.datetime64('2013-08-06T22:08:03.000000000'),\n",
       " numpy.datetime64('2013-08-08T22:08:03.000000000'),\n",
       " numpy.datetime64('2013-08-10T22:08:03.000000000'),\n",
       " numpy.datetime64('2013-08-13T22:08:03.000000000'),\n",
       " numpy.datetime64('2013-08-17T22:08:03.000000000'),\n",
       " numpy.datetime64('2013-08-19T22:08:03.000000000'),\n",
       " numpy.datetime64('2013-08-20T22:08:03.000000000'),\n",
       " numpy.datetime64('2013-08-23T22:08:03.000000000'),\n",
       " numpy.datetime64('2013-08-24T22:08:03.000000000'),\n",
       " numpy.datetime64('2013-08-26T22:08:03.000000000'),\n",
       " numpy.datetime64('2013-08-27T22:08:03.000000000'),\n",
       " numpy.datetime64('2013-08-29T22:08:03.000000000'),\n",
       " numpy.datetime64('2013-08-30T22:08:03.000000000'),\n",
       " numpy.datetime64('2013-08-31T22:08:03.000000000'),\n",
       " numpy.datetime64('2013-09-01T22:08:03.000000000'),\n",
       " numpy.datetime64('2013-09-02T22:08:03.000000000'),\n",
       " numpy.datetime64('2013-09-04T22:08:03.000000000'),\n",
       " numpy.datetime64('2013-09-05T22:08:03.000000000'),\n",
       " numpy.datetime64('2013-09-08T22:08:03.000000000'),\n",
       " numpy.datetime64('2013-09-09T22:08:03.000000000'),\n",
       " numpy.datetime64('2013-09-10T22:08:03.000000000'),\n",
       " numpy.datetime64('2013-09-13T22:08:03.000000000'),\n",
       " numpy.datetime64('2013-09-14T22:08:03.000000000'),\n",
       " numpy.datetime64('2013-09-15T22:08:03.000000000'),\n",
       " numpy.datetime64('2013-09-17T22:08:03.000000000'),\n",
       " numpy.datetime64('2013-09-21T22:08:03.000000000'),\n",
       " numpy.datetime64('2013-09-22T22:08:03.000000000'),\n",
       " numpy.datetime64('2013-09-24T22:08:03.000000000'),\n",
       " numpy.datetime64('2013-09-25T22:08:03.000000000'),\n",
       " numpy.datetime64('2013-09-30T22:08:03.000000000'),\n",
       " numpy.datetime64('2013-10-03T22:08:03.000000000'),\n",
       " numpy.datetime64('2013-10-05T22:08:03.000000000'),\n",
       " numpy.datetime64('2013-10-06T22:08:03.000000000'),\n",
       " numpy.datetime64('2013-10-09T22:08:03.000000000'),\n",
       " numpy.datetime64('2013-10-12T22:08:03.000000000'),\n",
       " numpy.datetime64('2013-10-13T22:08:03.000000000'),\n",
       " numpy.datetime64('2013-10-14T22:08:03.000000000'),\n",
       " numpy.datetime64('2013-10-17T22:08:03.000000000'),\n",
       " numpy.datetime64('2013-10-21T22:08:03.000000000'),\n",
       " numpy.datetime64('2013-10-23T22:08:03.000000000'),\n",
       " numpy.datetime64('2013-10-24T22:08:03.000000000'),\n",
       " numpy.datetime64('2013-10-25T22:08:03.000000000'),\n",
       " numpy.datetime64('2013-10-28T22:08:03.000000000'),\n",
       " numpy.datetime64('2013-10-29T22:08:03.000000000'),\n",
       " numpy.datetime64('2013-10-31T22:08:03.000000000'),\n",
       " numpy.datetime64('2013-11-04T22:08:03.000000000'),\n",
       " numpy.datetime64('2013-11-07T22:08:03.000000000'),\n",
       " numpy.datetime64('2013-11-10T22:08:03.000000000'),\n",
       " numpy.datetime64('2013-11-14T22:08:03.000000000'),\n",
       " numpy.datetime64('2013-11-16T22:08:03.000000000'),\n",
       " numpy.datetime64('2013-11-21T22:08:03.000000000'),\n",
       " numpy.datetime64('2013-11-24T22:08:03.000000000'),\n",
       " numpy.datetime64('2013-11-29T22:08:03.000000000'),\n",
       " numpy.datetime64('2013-12-02T22:08:03.000000000'),\n",
       " numpy.datetime64('2013-12-03T22:08:03.000000000'),\n",
       " numpy.datetime64('2013-12-06T22:08:03.000000000'),\n",
       " numpy.datetime64('2013-12-10T22:08:03.000000000'),\n",
       " numpy.datetime64('2013-12-11T22:08:03.000000000'),\n",
       " numpy.datetime64('2013-12-12T22:08:03.000000000'),\n",
       " numpy.datetime64('2013-12-17T22:08:03.000000000'),\n",
       " numpy.datetime64('2013-12-18T22:08:03.000000000'),\n",
       " numpy.datetime64('2013-12-19T22:08:03.000000000'),\n",
       " numpy.datetime64('2013-12-20T22:08:03.000000000'),\n",
       " numpy.datetime64('2013-12-22T22:08:03.000000000'),\n",
       " numpy.datetime64('2013-12-23T22:08:03.000000000'),\n",
       " numpy.datetime64('2013-12-24T22:08:03.000000000'),\n",
       " numpy.datetime64('2013-12-25T22:08:03.000000000'),\n",
       " numpy.datetime64('2013-12-27T22:08:03.000000000'),\n",
       " numpy.datetime64('2013-12-28T22:08:03.000000000'),\n",
       " numpy.datetime64('2013-12-29T22:08:03.000000000'),\n",
       " numpy.datetime64('2013-12-30T22:08:03.000000000'),\n",
       " numpy.datetime64('2014-01-01T22:08:03.000000000'),\n",
       " numpy.datetime64('2014-01-02T22:08:03.000000000'),\n",
       " numpy.datetime64('2014-01-03T22:08:03.000000000'),\n",
       " numpy.datetime64('2014-01-05T22:08:03.000000000'),\n",
       " numpy.datetime64('2014-01-08T22:08:03.000000000'),\n",
       " numpy.datetime64('2014-01-09T22:08:03.000000000'),\n",
       " numpy.datetime64('2014-01-10T22:08:03.000000000'),\n",
       " numpy.datetime64('2014-01-11T22:08:03.000000000'),\n",
       " numpy.datetime64('2014-01-13T22:08:03.000000000'),\n",
       " numpy.datetime64('2014-01-14T22:08:03.000000000'),\n",
       " numpy.datetime64('2014-01-15T22:08:03.000000000'),\n",
       " numpy.datetime64('2014-01-16T22:08:03.000000000'),\n",
       " numpy.datetime64('2014-01-17T22:08:03.000000000'),\n",
       " numpy.datetime64('2014-01-19T22:08:03.000000000'),\n",
       " numpy.datetime64('2014-01-20T22:08:03.000000000'),\n",
       " numpy.datetime64('2014-01-22T22:08:03.000000000'),\n",
       " numpy.datetime64('2014-01-23T22:08:03.000000000'),\n",
       " numpy.datetime64('2014-01-24T22:08:03.000000000'),\n",
       " numpy.datetime64('2014-01-25T22:08:03.000000000'),\n",
       " numpy.datetime64('2014-01-26T22:08:03.000000000'),\n",
       " numpy.datetime64('2014-01-27T22:08:03.000000000'),\n",
       " numpy.datetime64('2014-01-28T22:08:03.000000000'),\n",
       " numpy.datetime64('2014-01-29T22:08:03.000000000'),\n",
       " numpy.datetime64('2014-01-30T22:08:03.000000000'),\n",
       " numpy.datetime64('2014-02-01T22:08:03.000000000'),\n",
       " numpy.datetime64('2014-02-02T22:08:03.000000000'),\n",
       " numpy.datetime64('2014-02-05T22:08:03.000000000'),\n",
       " numpy.datetime64('2014-02-08T22:08:03.000000000'),\n",
       " numpy.datetime64('2014-02-09T22:08:03.000000000'),\n",
       " numpy.datetime64('2014-02-10T22:08:03.000000000'),\n",
       " numpy.datetime64('2014-02-12T22:08:03.000000000'),\n",
       " numpy.datetime64('2014-02-13T22:08:03.000000000'),\n",
       " numpy.datetime64('2014-02-14T22:08:03.000000000'),\n",
       " numpy.datetime64('2014-02-15T22:08:03.000000000'),\n",
       " numpy.datetime64('2014-02-16T22:08:03.000000000'),\n",
       " numpy.datetime64('2014-02-17T22:08:03.000000000'),\n",
       " numpy.datetime64('2014-02-18T22:08:03.000000000'),\n",
       " numpy.datetime64('2014-02-19T22:08:03.000000000'),\n",
       " numpy.datetime64('2014-02-20T22:08:03.000000000'),\n",
       " numpy.datetime64('2014-02-21T22:08:03.000000000'),\n",
       " numpy.datetime64('2014-02-22T22:08:03.000000000'),\n",
       " numpy.datetime64('2014-02-23T22:08:03.000000000'),\n",
       " numpy.datetime64('2014-02-24T22:08:03.000000000'),\n",
       " numpy.datetime64('2014-02-25T22:08:03.000000000'),\n",
       " numpy.datetime64('2014-02-26T22:08:03.000000000'),\n",
       " numpy.datetime64('2014-02-27T22:08:03.000000000'),\n",
       " numpy.datetime64('2014-02-28T22:08:03.000000000'),\n",
       " numpy.datetime64('2014-03-01T22:08:03.000000000'),\n",
       " numpy.datetime64('2014-03-02T22:08:03.000000000'),\n",
       " numpy.datetime64('2014-03-03T22:08:03.000000000'),\n",
       " numpy.datetime64('2014-03-04T22:08:03.000000000'),\n",
       " numpy.datetime64('2014-03-05T22:08:03.000000000'),\n",
       " numpy.datetime64('2014-03-06T22:08:03.000000000'),\n",
       " numpy.datetime64('2014-03-07T22:08:03.000000000'),\n",
       " numpy.datetime64('2014-03-08T22:08:03.000000000'),\n",
       " numpy.datetime64('2014-03-09T22:08:03.000000000'),\n",
       " numpy.datetime64('2014-03-10T22:08:03.000000000'),\n",
       " numpy.datetime64('2014-03-11T22:08:03.000000000'),\n",
       " numpy.datetime64('2014-03-12T22:08:03.000000000'),\n",
       " numpy.datetime64('2014-03-13T22:08:03.000000000'),\n",
       " numpy.datetime64('2014-03-14T22:08:03.000000000'),\n",
       " numpy.datetime64('2014-03-15T22:08:03.000000000'),\n",
       " numpy.datetime64('2014-03-16T22:08:03.000000000'),\n",
       " numpy.datetime64('2014-03-17T22:08:03.000000000'),\n",
       " numpy.datetime64('2014-03-18T22:08:03.000000000'),\n",
       " numpy.datetime64('2014-03-19T22:08:03.000000000'),\n",
       " numpy.datetime64('2014-03-20T22:08:03.000000000'),\n",
       " numpy.datetime64('2014-03-21T22:08:03.000000000'),\n",
       " numpy.datetime64('2014-03-22T22:08:03.000000000'),\n",
       " numpy.datetime64('2014-03-23T22:08:03.000000000'),\n",
       " numpy.datetime64('2014-03-24T22:08:03.000000000'),\n",
       " numpy.datetime64('2014-03-25T22:08:03.000000000'),\n",
       " numpy.datetime64('2014-03-26T22:08:03.000000000'),\n",
       " numpy.datetime64('2014-03-27T22:08:03.000000000'),\n",
       " numpy.datetime64('2014-03-28T22:08:03.000000000'),\n",
       " numpy.datetime64('2014-03-29T22:08:03.000000000'),\n",
       " numpy.datetime64('2014-03-30T22:08:03.000000000'),\n",
       " numpy.datetime64('2014-03-31T22:08:03.000000000'),\n",
       " numpy.datetime64('2014-04-01T22:08:03.000000000'),\n",
       " numpy.datetime64('2014-04-02T22:08:03.000000000'),\n",
       " numpy.datetime64('2014-04-03T22:08:03.000000000'),\n",
       " numpy.datetime64('2014-04-04T22:08:03.000000000'),\n",
       " numpy.datetime64('2014-04-06T22:08:03.000000000'),\n",
       " numpy.datetime64('2014-04-07T22:08:03.000000000'),\n",
       " numpy.datetime64('2014-04-08T22:08:03.000000000'),\n",
       " numpy.datetime64('2014-04-09T22:08:03.000000000'),\n",
       " numpy.datetime64('2014-04-10T22:08:03.000000000'),\n",
       " numpy.datetime64('2014-04-13T22:08:03.000000000'),\n",
       " numpy.datetime64('2014-04-14T22:08:03.000000000'),\n",
       " numpy.datetime64('2014-04-15T22:08:03.000000000'),\n",
       " numpy.datetime64('2014-04-16T22:08:03.000000000'),\n",
       " numpy.datetime64('2014-04-17T22:08:03.000000000'),\n",
       " numpy.datetime64('2014-04-18T22:08:03.000000000'),\n",
       " numpy.datetime64('2014-04-19T22:08:03.000000000'),\n",
       " numpy.datetime64('2014-04-20T22:08:03.000000000'),\n",
       " numpy.datetime64('2014-04-21T22:08:03.000000000'),\n",
       " numpy.datetime64('2014-04-24T22:08:03.000000000'),\n",
       " numpy.datetime64('2014-04-26T22:08:03.000000000'),\n",
       " numpy.datetime64('2014-04-27T22:08:03.000000000'),\n",
       " numpy.datetime64('2014-04-28T22:08:03.000000000'),\n",
       " numpy.datetime64('2014-05-01T22:08:03.000000000'),\n",
       " numpy.datetime64('2014-05-02T22:08:03.000000000'),\n",
       " numpy.datetime64('2014-05-03T22:08:03.000000000'),\n",
       " numpy.datetime64('2014-05-04T22:08:03.000000000'),\n",
       " numpy.datetime64('2014-05-05T22:08:03.000000000'),\n",
       " numpy.datetime64('2014-05-06T22:08:03.000000000'),\n",
       " numpy.datetime64('2014-05-07T22:08:03.000000000'),\n",
       " numpy.datetime64('2014-05-08T22:08:03.000000000'),\n",
       " numpy.datetime64('2014-05-09T22:08:03.000000000'),\n",
       " numpy.datetime64('2014-05-10T22:08:03.000000000'),\n",
       " numpy.datetime64('2014-05-11T22:08:03.000000000'),\n",
       " numpy.datetime64('2014-05-12T22:08:03.000000000'),\n",
       " numpy.datetime64('2014-05-13T22:08:03.000000000'),\n",
       " numpy.datetime64('2014-05-14T22:08:03.000000000'),\n",
       " numpy.datetime64('2014-05-15T22:08:03.000000000'),\n",
       " numpy.datetime64('2014-05-16T22:08:03.000000000'),\n",
       " numpy.datetime64('2014-05-17T22:08:03.000000000'),\n",
       " numpy.datetime64('2014-05-18T22:08:03.000000000'),\n",
       " numpy.datetime64('2014-05-19T22:08:03.000000000'),\n",
       " numpy.datetime64('2014-05-20T22:08:03.000000000'),\n",
       " numpy.datetime64('2014-05-21T22:08:03.000000000'),\n",
       " numpy.datetime64('2014-05-22T22:08:03.000000000'),\n",
       " numpy.datetime64('2014-05-23T22:08:03.000000000'),\n",
       " numpy.datetime64('2014-05-24T22:08:03.000000000'),\n",
       " numpy.datetime64('2014-05-25T22:08:03.000000000'),\n",
       " numpy.datetime64('2014-05-26T22:08:03.000000000'),\n",
       " numpy.datetime64('2014-05-27T22:08:03.000000000'),\n",
       " numpy.datetime64('2014-05-28T22:08:03.000000000'),\n",
       " numpy.datetime64('2014-05-29T22:08:03.000000000'),\n",
       " numpy.datetime64('2014-05-30T22:08:03.000000000'),\n",
       " numpy.datetime64('2014-05-31T22:08:03.000000000'),\n",
       " numpy.datetime64('2014-06-01T22:08:03.000000000'),\n",
       " numpy.datetime64('2014-06-02T22:08:03.000000000'),\n",
       " numpy.datetime64('2014-06-03T22:08:03.000000000'),\n",
       " numpy.datetime64('2013-12-27T03:55:54.000000000'),\n",
       " numpy.datetime64('2014-03-30T16:19:38.000000000'),\n",
       " numpy.datetime64('2012-10-12T16:14:33.000000000'),\n",
       " numpy.datetime64('2014-04-12T14:39:38.000000000'),\n",
       " numpy.datetime64('2013-05-25T14:56:36.000000000'),\n",
       " numpy.datetime64('2013-05-30T14:56:36.000000000'),\n",
       " numpy.datetime64('2014-03-11T11:46:38.000000000'),\n",
       " numpy.datetime64('2014-03-12T11:46:38.000000000'),\n",
       " numpy.datetime64('2014-03-13T11:46:38.000000000'),\n",
       " numpy.datetime64('2014-05-07T11:46:38.000000000'),\n",
       " numpy.datetime64('2014-05-11T11:46:38.000000000'),\n",
       " numpy.datetime64('2014-05-28T11:46:38.000000000'),\n",
       " numpy.datetime64('2014-05-29T11:46:38.000000000'),\n",
       " numpy.datetime64('2013-01-22T12:27:42.000000000'),\n",
       " numpy.datetime64('2014-02-10T06:00:46.000000000'),\n",
       " numpy.datetime64('2012-08-18T08:30:27.000000000'),\n",
       " numpy.datetime64('2013-09-09T22:20:03.000000000'),\n",
       " numpy.datetime64('2014-02-25T00:11:13.000000000'),\n",
       " numpy.datetime64('2014-02-26T00:11:13.000000000'),\n",
       " numpy.datetime64('2014-01-15T17:35:11.000000000'),\n",
       " numpy.datetime64('2013-02-14T20:00:25.000000000'),\n",
       " numpy.datetime64('2013-09-17T02:08:41.000000000'),\n",
       " numpy.datetime64('2013-06-04T00:44:25.000000000'),\n",
       " numpy.datetime64('2014-01-24T05:21:42.000000000'),\n",
       " numpy.datetime64('2014-03-11T06:29:09.000000000'),\n",
       " numpy.datetime64('2014-03-17T06:29:09.000000000'),\n",
       " numpy.datetime64('2014-03-22T06:29:09.000000000'),\n",
       " numpy.datetime64('2014-03-23T06:29:09.000000000'),\n",
       " numpy.datetime64('2014-03-30T06:29:09.000000000'),\n",
       " numpy.datetime64('2014-04-03T06:29:09.000000000'),\n",
       " numpy.datetime64('2014-04-09T06:29:09.000000000'),\n",
       " numpy.datetime64('2014-04-12T06:29:09.000000000'),\n",
       " numpy.datetime64('2014-04-17T06:29:09.000000000'),\n",
       " numpy.datetime64('2014-04-21T06:29:09.000000000'),\n",
       " numpy.datetime64('2014-04-25T06:29:09.000000000'),\n",
       " numpy.datetime64('2014-04-30T06:29:09.000000000'),\n",
       " numpy.datetime64('2014-05-12T06:29:09.000000000'),\n",
       " numpy.datetime64('2014-05-14T06:29:09.000000000'),\n",
       " numpy.datetime64('2014-05-19T06:29:09.000000000'),\n",
       " numpy.datetime64('2014-05-24T06:29:09.000000000'),\n",
       " numpy.datetime64('2014-05-26T06:29:09.000000000'),\n",
       " numpy.datetime64('2014-05-31T06:29:09.000000000'),\n",
       " numpy.datetime64('2013-08-06T09:08:15.000000000'),\n",
       " numpy.datetime64('2012-09-26T14:37:23.000000000'),\n",
       " numpy.datetime64('2014-04-30T23:38:17.000000000'),\n",
       " numpy.datetime64('2012-11-13T19:05:07.000000000'),\n",
       " numpy.datetime64('2012-12-16T19:05:07.000000000'),\n",
       " numpy.datetime64('2012-12-18T19:05:07.000000000'),\n",
       " numpy.datetime64('2012-12-24T19:05:07.000000000'),\n",
       " numpy.datetime64('2012-12-25T19:05:07.000000000'),\n",
       " numpy.datetime64('2012-12-26T19:05:07.000000000'),\n",
       " numpy.datetime64('2012-12-28T19:05:07.000000000'),\n",
       " numpy.datetime64('2013-01-08T19:05:07.000000000'),\n",
       " numpy.datetime64('2013-01-11T19:05:07.000000000'),\n",
       " numpy.datetime64('2013-01-14T19:05:07.000000000'),\n",
       " numpy.datetime64('2013-01-15T19:05:07.000000000'),\n",
       " numpy.datetime64('2013-01-18T19:05:07.000000000'),\n",
       " numpy.datetime64('2013-01-21T19:05:07.000000000'),\n",
       " numpy.datetime64('2013-01-23T19:05:07.000000000'),\n",
       " numpy.datetime64('2013-01-27T19:05:07.000000000'),\n",
       " numpy.datetime64('2013-02-02T19:05:07.000000000'),\n",
       " numpy.datetime64('2013-02-06T19:05:07.000000000'),\n",
       " numpy.datetime64('2013-02-07T19:05:07.000000000'),\n",
       " numpy.datetime64('2013-02-10T19:05:07.000000000'),\n",
       " numpy.datetime64('2013-02-15T19:05:07.000000000'),\n",
       " numpy.datetime64('2013-02-17T19:05:07.000000000'),\n",
       " numpy.datetime64('2013-02-18T19:05:07.000000000'),\n",
       " numpy.datetime64('2013-02-21T19:05:07.000000000'),\n",
       " numpy.datetime64('2013-02-24T19:05:07.000000000'),\n",
       " numpy.datetime64('2013-02-28T19:05:07.000000000'),\n",
       " numpy.datetime64('2013-03-01T19:05:07.000000000'),\n",
       " numpy.datetime64('2013-03-03T19:05:07.000000000'),\n",
       " numpy.datetime64('2013-03-04T19:05:07.000000000'),\n",
       " numpy.datetime64('2013-03-05T19:05:07.000000000'),\n",
       " numpy.datetime64('2013-03-08T19:05:07.000000000'),\n",
       " numpy.datetime64('2013-03-10T19:05:07.000000000'),\n",
       " numpy.datetime64('2013-03-11T19:05:07.000000000'),\n",
       " numpy.datetime64('2013-03-12T19:05:07.000000000'),\n",
       " numpy.datetime64('2013-03-14T19:05:07.000000000'),\n",
       " numpy.datetime64('2013-03-15T19:05:07.000000000'),\n",
       " numpy.datetime64('2013-03-16T19:05:07.000000000'),\n",
       " numpy.datetime64('2013-03-17T19:05:07.000000000'),\n",
       " numpy.datetime64('2013-03-20T19:05:07.000000000'),\n",
       " numpy.datetime64('2013-03-21T19:05:07.000000000'),\n",
       " numpy.datetime64('2013-03-22T19:05:07.000000000'),\n",
       " numpy.datetime64('2013-03-23T19:05:07.000000000'),\n",
       " numpy.datetime64('2013-03-24T19:05:07.000000000'),\n",
       " numpy.datetime64('2013-03-26T19:05:07.000000000'),\n",
       " numpy.datetime64('2013-03-27T19:05:07.000000000'),\n",
       " numpy.datetime64('2013-03-28T19:05:07.000000000'),\n",
       " numpy.datetime64('2013-03-30T19:05:07.000000000'),\n",
       " numpy.datetime64('2013-03-31T19:05:07.000000000'),\n",
       " numpy.datetime64('2013-04-01T19:05:07.000000000'),\n",
       " numpy.datetime64('2013-04-06T19:05:07.000000000'),\n",
       " numpy.datetime64('2013-04-07T19:05:07.000000000'),\n",
       " numpy.datetime64('2013-04-09T19:05:07.000000000'),\n",
       " numpy.datetime64('2013-04-10T19:05:07.000000000'),\n",
       " numpy.datetime64('2013-04-12T19:05:07.000000000'),\n",
       " numpy.datetime64('2013-04-13T19:05:07.000000000'),\n",
       " numpy.datetime64('2013-04-14T19:05:07.000000000'),\n",
       " numpy.datetime64('2013-04-15T19:05:07.000000000'),\n",
       " numpy.datetime64('2013-04-16T19:05:07.000000000'),\n",
       " numpy.datetime64('2013-04-17T19:05:07.000000000'),\n",
       " numpy.datetime64('2013-04-19T19:05:07.000000000'),\n",
       " numpy.datetime64('2013-04-20T19:05:07.000000000'),\n",
       " numpy.datetime64('2013-04-21T19:05:07.000000000'),\n",
       " numpy.datetime64('2013-04-22T19:05:07.000000000'),\n",
       " numpy.datetime64('2013-04-24T19:05:07.000000000'),\n",
       " numpy.datetime64('2013-04-27T19:05:07.000000000'),\n",
       " numpy.datetime64('2013-04-28T19:05:07.000000000'),\n",
       " numpy.datetime64('2013-04-29T19:05:07.000000000'),\n",
       " numpy.datetime64('2013-04-30T19:05:07.000000000'),\n",
       " numpy.datetime64('2013-05-02T19:05:07.000000000'),\n",
       " numpy.datetime64('2013-05-03T19:05:07.000000000'),\n",
       " numpy.datetime64('2013-05-04T19:05:07.000000000'),\n",
       " numpy.datetime64('2013-05-05T19:05:07.000000000'),\n",
       " numpy.datetime64('2013-05-06T19:05:07.000000000'),\n",
       " numpy.datetime64('2013-05-08T19:05:07.000000000'),\n",
       " numpy.datetime64('2013-05-10T19:05:07.000000000'),\n",
       " numpy.datetime64('2013-05-11T19:05:07.000000000'),\n",
       " numpy.datetime64('2013-05-12T19:05:07.000000000'),\n",
       " numpy.datetime64('2013-05-13T19:05:07.000000000'),\n",
       " numpy.datetime64('2013-05-17T19:05:07.000000000'),\n",
       " numpy.datetime64('2013-05-18T19:05:07.000000000'),\n",
       " numpy.datetime64('2013-05-19T19:05:07.000000000'),\n",
       " numpy.datetime64('2013-05-20T19:05:07.000000000'),\n",
       " numpy.datetime64('2013-05-22T19:05:07.000000000'),\n",
       " numpy.datetime64('2013-05-23T19:05:07.000000000'),\n",
       " numpy.datetime64('2013-05-24T19:05:07.000000000'),\n",
       " numpy.datetime64('2013-05-25T19:05:07.000000000'),\n",
       " numpy.datetime64('2013-05-26T19:05:07.000000000'),\n",
       " numpy.datetime64('2013-05-28T19:05:07.000000000'),\n",
       " numpy.datetime64('2013-05-29T19:05:07.000000000'),\n",
       " numpy.datetime64('2013-05-30T19:05:07.000000000'),\n",
       " numpy.datetime64('2013-05-31T19:05:07.000000000'),\n",
       " numpy.datetime64('2013-06-03T19:05:07.000000000'),\n",
       " numpy.datetime64('2013-06-05T19:05:07.000000000'),\n",
       " numpy.datetime64('2013-06-06T19:05:07.000000000'),\n",
       " numpy.datetime64('2013-06-07T19:05:07.000000000'),\n",
       " numpy.datetime64('2013-06-08T19:05:07.000000000'),\n",
       " numpy.datetime64('2013-06-09T19:05:07.000000000'),\n",
       " numpy.datetime64('2013-06-11T19:05:07.000000000'),\n",
       " numpy.datetime64('2013-06-12T19:05:07.000000000'),\n",
       " numpy.datetime64('2013-06-14T19:05:07.000000000'),\n",
       " numpy.datetime64('2013-06-15T19:05:07.000000000'),\n",
       " numpy.datetime64('2013-06-17T19:05:07.000000000'),\n",
       " numpy.datetime64('2013-06-18T19:05:07.000000000'),\n",
       " numpy.datetime64('2013-06-19T19:05:07.000000000'),\n",
       " numpy.datetime64('2013-06-20T19:05:07.000000000'),\n",
       " numpy.datetime64('2013-06-21T19:05:07.000000000'),\n",
       " numpy.datetime64('2013-06-22T19:05:07.000000000'),\n",
       " numpy.datetime64('2013-06-23T19:05:07.000000000'),\n",
       " numpy.datetime64('2013-06-24T19:05:07.000000000'),\n",
       " numpy.datetime64('2013-06-26T19:05:07.000000000'),\n",
       " numpy.datetime64('2013-06-29T19:05:07.000000000'),\n",
       " numpy.datetime64('2013-06-30T19:05:07.000000000'),\n",
       " numpy.datetime64('2013-07-01T19:05:07.000000000'),\n",
       " numpy.datetime64('2013-07-02T19:05:07.000000000'),\n",
       " numpy.datetime64('2013-07-04T19:05:07.000000000'),\n",
       " numpy.datetime64('2013-07-06T19:05:07.000000000'),\n",
       " numpy.datetime64('2013-07-07T19:05:07.000000000'),\n",
       " numpy.datetime64('2013-07-08T19:05:07.000000000'),\n",
       " numpy.datetime64('2013-07-09T19:05:07.000000000'),\n",
       " numpy.datetime64('2013-07-10T19:05:07.000000000'),\n",
       " numpy.datetime64('2013-07-11T19:05:07.000000000'),\n",
       " numpy.datetime64('2013-07-13T19:05:07.000000000'),\n",
       " numpy.datetime64('2013-07-14T19:05:07.000000000'),\n",
       " numpy.datetime64('2013-07-15T19:05:07.000000000'),\n",
       " numpy.datetime64('2013-07-16T19:05:07.000000000'),\n",
       " numpy.datetime64('2013-07-18T19:05:07.000000000'),\n",
       " numpy.datetime64('2013-07-20T19:05:07.000000000'),\n",
       " numpy.datetime64('2013-07-21T19:05:07.000000000'),\n",
       " numpy.datetime64('2013-07-22T19:05:07.000000000'),\n",
       " numpy.datetime64('2013-07-23T19:05:07.000000000'),\n",
       " numpy.datetime64('2013-07-24T19:05:07.000000000'),\n",
       " numpy.datetime64('2013-07-25T19:05:07.000000000'),\n",
       " numpy.datetime64('2013-07-26T19:05:07.000000000'),\n",
       " numpy.datetime64('2013-07-27T19:05:07.000000000'),\n",
       " numpy.datetime64('2013-07-28T19:05:07.000000000'),\n",
       " numpy.datetime64('2013-07-29T19:05:07.000000000'),\n",
       " numpy.datetime64('2013-07-30T19:05:07.000000000'),\n",
       " numpy.datetime64('2013-07-31T19:05:07.000000000'),\n",
       " numpy.datetime64('2013-08-01T19:05:07.000000000'),\n",
       " numpy.datetime64('2013-08-02T19:05:07.000000000'),\n",
       " numpy.datetime64('2013-08-03T19:05:07.000000000'),\n",
       " numpy.datetime64('2013-08-04T19:05:07.000000000'),\n",
       " numpy.datetime64('2013-08-05T19:05:07.000000000'),\n",
       " numpy.datetime64('2013-08-06T19:05:07.000000000'),\n",
       " numpy.datetime64('2013-08-07T19:05:07.000000000'),\n",
       " numpy.datetime64('2013-08-08T19:05:07.000000000'),\n",
       " numpy.datetime64('2013-08-09T19:05:07.000000000'),\n",
       " numpy.datetime64('2013-08-10T19:05:07.000000000'),\n",
       " numpy.datetime64('2013-08-11T19:05:07.000000000'),\n",
       " numpy.datetime64('2013-08-12T19:05:07.000000000'),\n",
       " numpy.datetime64('2013-08-13T19:05:07.000000000'),\n",
       " numpy.datetime64('2013-08-14T19:05:07.000000000'),\n",
       " numpy.datetime64('2013-08-15T19:05:07.000000000'),\n",
       " numpy.datetime64('2013-08-16T19:05:07.000000000'),\n",
       " numpy.datetime64('2013-08-17T19:05:07.000000000'),\n",
       " numpy.datetime64('2013-08-18T19:05:07.000000000'),\n",
       " numpy.datetime64('2013-08-20T19:05:07.000000000'),\n",
       " numpy.datetime64('2013-08-22T19:05:07.000000000'),\n",
       " numpy.datetime64('2013-08-23T19:05:07.000000000'),\n",
       " numpy.datetime64('2013-08-24T19:05:07.000000000'),\n",
       " numpy.datetime64('2013-08-25T19:05:07.000000000'),\n",
       " numpy.datetime64('2013-08-26T19:05:07.000000000'),\n",
       " numpy.datetime64('2013-08-28T19:05:07.000000000'),\n",
       " numpy.datetime64('2013-08-29T19:05:07.000000000'),\n",
       " numpy.datetime64('2013-08-30T19:05:07.000000000'),\n",
       " numpy.datetime64('2013-08-31T19:05:07.000000000'),\n",
       " numpy.datetime64('2013-09-01T19:05:07.000000000'),\n",
       " numpy.datetime64('2013-09-03T19:05:07.000000000'),\n",
       " numpy.datetime64('2013-09-04T19:05:07.000000000'),\n",
       " numpy.datetime64('2013-09-05T19:05:07.000000000'),\n",
       " numpy.datetime64('2013-09-06T19:05:07.000000000'),\n",
       " numpy.datetime64('2013-09-07T19:05:07.000000000'),\n",
       " numpy.datetime64('2013-09-08T19:05:07.000000000'),\n",
       " numpy.datetime64('2013-09-09T19:05:07.000000000'),\n",
       " numpy.datetime64('2013-09-10T19:05:07.000000000'),\n",
       " numpy.datetime64('2013-09-11T19:05:07.000000000'),\n",
       " numpy.datetime64('2013-09-12T19:05:07.000000000'),\n",
       " numpy.datetime64('2013-09-13T19:05:07.000000000'),\n",
       " numpy.datetime64('2013-09-14T19:05:07.000000000'),\n",
       " numpy.datetime64('2013-09-15T19:05:07.000000000'),\n",
       " numpy.datetime64('2013-09-16T19:05:07.000000000'),\n",
       " numpy.datetime64('2013-09-17T19:05:07.000000000'),\n",
       " numpy.datetime64('2013-09-18T19:05:07.000000000'),\n",
       " numpy.datetime64('2013-09-19T19:05:07.000000000'),\n",
       " numpy.datetime64('2013-09-20T19:05:07.000000000'),\n",
       " numpy.datetime64('2013-09-21T19:05:07.000000000'),\n",
       " numpy.datetime64('2013-09-22T19:05:07.000000000'),\n",
       " numpy.datetime64('2013-09-23T19:05:07.000000000'),\n",
       " numpy.datetime64('2013-09-24T19:05:07.000000000'),\n",
       " numpy.datetime64('2013-09-25T19:05:07.000000000'),\n",
       " numpy.datetime64('2013-09-26T19:05:07.000000000'),\n",
       " numpy.datetime64('2013-09-27T19:05:07.000000000'),\n",
       " numpy.datetime64('2013-09-28T19:05:07.000000000'),\n",
       " numpy.datetime64('2013-09-29T19:05:07.000000000'),\n",
       " numpy.datetime64('2013-09-30T19:05:07.000000000'),\n",
       " numpy.datetime64('2013-10-01T19:05:07.000000000'),\n",
       " numpy.datetime64('2013-10-02T19:05:07.000000000'),\n",
       " numpy.datetime64('2013-10-03T19:05:07.000000000'),\n",
       " numpy.datetime64('2013-10-04T19:05:07.000000000'),\n",
       " numpy.datetime64('2013-10-06T19:05:07.000000000'),\n",
       " numpy.datetime64('2013-10-08T19:05:07.000000000'),\n",
       " numpy.datetime64('2013-10-09T19:05:07.000000000'),\n",
       " numpy.datetime64('2013-10-10T19:05:07.000000000'),\n",
       " numpy.datetime64('2013-10-11T19:05:07.000000000'),\n",
       " numpy.datetime64('2013-10-12T19:05:07.000000000'),\n",
       " numpy.datetime64('2013-10-13T19:05:07.000000000'),\n",
       " numpy.datetime64('2013-10-14T19:05:07.000000000'),\n",
       " numpy.datetime64('2013-10-15T19:05:07.000000000'),\n",
       " numpy.datetime64('2013-10-16T19:05:07.000000000'),\n",
       " numpy.datetime64('2013-10-17T19:05:07.000000000'),\n",
       " numpy.datetime64('2013-10-18T19:05:07.000000000'),\n",
       " numpy.datetime64('2013-10-19T19:05:07.000000000'),\n",
       " numpy.datetime64('2013-10-20T19:05:07.000000000'),\n",
       " numpy.datetime64('2013-10-21T19:05:07.000000000'),\n",
       " numpy.datetime64('2013-10-23T19:05:07.000000000'),\n",
       " numpy.datetime64('2013-10-24T19:05:07.000000000'),\n",
       " numpy.datetime64('2013-10-25T19:05:07.000000000'),\n",
       " numpy.datetime64('2013-10-26T19:05:07.000000000'),\n",
       " numpy.datetime64('2013-10-29T19:05:07.000000000'),\n",
       " numpy.datetime64('2013-10-30T19:05:07.000000000'),\n",
       " numpy.datetime64('2013-10-31T19:05:07.000000000'),\n",
       " numpy.datetime64('2013-11-01T19:05:07.000000000'),\n",
       " numpy.datetime64('2013-11-02T19:05:07.000000000'),\n",
       " numpy.datetime64('2013-11-03T19:05:07.000000000'),\n",
       " numpy.datetime64('2013-11-05T19:05:07.000000000'),\n",
       " numpy.datetime64('2013-11-06T19:05:07.000000000'),\n",
       " numpy.datetime64('2013-11-07T19:05:07.000000000'),\n",
       " numpy.datetime64('2013-11-08T19:05:07.000000000'),\n",
       " numpy.datetime64('2013-11-09T19:05:07.000000000'),\n",
       " numpy.datetime64('2013-11-11T19:05:07.000000000'),\n",
       " numpy.datetime64('2013-11-12T19:05:07.000000000'),\n",
       " numpy.datetime64('2013-11-13T19:05:07.000000000'),\n",
       " numpy.datetime64('2013-11-14T19:05:07.000000000'),\n",
       " numpy.datetime64('2013-11-15T19:05:07.000000000'),\n",
       " numpy.datetime64('2013-11-16T19:05:07.000000000'),\n",
       " numpy.datetime64('2013-11-17T19:05:07.000000000'),\n",
       " numpy.datetime64('2013-11-18T19:05:07.000000000'),\n",
       " numpy.datetime64('2013-11-19T19:05:07.000000000'),\n",
       " numpy.datetime64('2013-11-21T19:05:07.000000000'),\n",
       " numpy.datetime64('2013-11-22T19:05:07.000000000'),\n",
       " numpy.datetime64('2013-11-23T19:05:07.000000000'),\n",
       " numpy.datetime64('2013-11-26T19:05:07.000000000'),\n",
       " numpy.datetime64('2013-11-27T19:05:07.000000000'),\n",
       " numpy.datetime64('2013-11-28T19:05:07.000000000'),\n",
       " numpy.datetime64('2013-11-29T19:05:07.000000000'),\n",
       " numpy.datetime64('2013-11-30T19:05:07.000000000'),\n",
       " numpy.datetime64('2013-12-01T19:05:07.000000000'),\n",
       " numpy.datetime64('2013-12-02T19:05:07.000000000'),\n",
       " numpy.datetime64('2013-12-03T19:05:07.000000000'),\n",
       " numpy.datetime64('2013-12-06T19:05:07.000000000'),\n",
       " numpy.datetime64('2013-12-09T19:05:07.000000000'),\n",
       " numpy.datetime64('2013-12-11T19:05:07.000000000'),\n",
       " numpy.datetime64('2013-12-13T19:05:07.000000000'),\n",
       " numpy.datetime64('2013-12-14T19:05:07.000000000'),\n",
       " numpy.datetime64('2013-12-15T19:05:07.000000000'),\n",
       " numpy.datetime64('2013-12-22T19:05:07.000000000'),\n",
       " numpy.datetime64('2013-12-23T19:05:07.000000000'),\n",
       " numpy.datetime64('2013-12-26T19:05:07.000000000'),\n",
       " numpy.datetime64('2013-12-29T19:05:07.000000000'),\n",
       " numpy.datetime64('2013-12-30T19:05:07.000000000'),\n",
       " numpy.datetime64('2013-12-31T19:05:07.000000000'),\n",
       " numpy.datetime64('2014-01-02T19:05:07.000000000'),\n",
       " numpy.datetime64('2014-01-03T19:05:07.000000000'),\n",
       " numpy.datetime64('2014-01-07T19:05:07.000000000'),\n",
       " numpy.datetime64('2014-01-08T19:05:07.000000000'),\n",
       " numpy.datetime64('2014-01-09T19:05:07.000000000'),\n",
       " numpy.datetime64('2014-01-10T19:05:07.000000000'),\n",
       " numpy.datetime64('2014-01-11T19:05:07.000000000'),\n",
       " numpy.datetime64('2014-01-12T19:05:07.000000000'),\n",
       " numpy.datetime64('2014-01-13T19:05:07.000000000'),\n",
       " numpy.datetime64('2014-01-14T19:05:07.000000000'),\n",
       " numpy.datetime64('2014-01-16T19:05:07.000000000'),\n",
       " numpy.datetime64('2014-01-17T19:05:07.000000000'),\n",
       " numpy.datetime64('2014-01-18T19:05:07.000000000'),\n",
       " numpy.datetime64('2014-01-19T19:05:07.000000000'),\n",
       " numpy.datetime64('2014-01-23T19:05:07.000000000'),\n",
       " numpy.datetime64('2014-01-25T19:05:07.000000000'),\n",
       " numpy.datetime64('2014-01-26T19:05:07.000000000'),\n",
       " numpy.datetime64('2014-01-27T19:05:07.000000000'),\n",
       " numpy.datetime64('2014-01-28T19:05:07.000000000'),\n",
       " numpy.datetime64('2014-02-01T19:05:07.000000000'),\n",
       " numpy.datetime64('2014-02-03T19:05:07.000000000'),\n",
       " numpy.datetime64('2014-02-07T19:05:07.000000000'),\n",
       " numpy.datetime64('2014-02-08T19:05:07.000000000'),\n",
       " numpy.datetime64('2014-02-09T19:05:07.000000000'),\n",
       " numpy.datetime64('2014-02-10T19:05:07.000000000'),\n",
       " numpy.datetime64('2014-02-11T19:05:07.000000000'),\n",
       " numpy.datetime64('2014-02-13T19:05:07.000000000'),\n",
       " numpy.datetime64('2014-02-14T19:05:07.000000000'),\n",
       " numpy.datetime64('2014-02-16T19:05:07.000000000'),\n",
       " numpy.datetime64('2014-02-19T19:05:07.000000000'),\n",
       " numpy.datetime64('2014-02-20T19:05:07.000000000'),\n",
       " numpy.datetime64('2014-02-21T19:05:07.000000000'),\n",
       " numpy.datetime64('2014-02-24T19:05:07.000000000'),\n",
       " numpy.datetime64('2014-02-25T19:05:07.000000000'),\n",
       " numpy.datetime64('2014-02-26T19:05:07.000000000'),\n",
       " numpy.datetime64('2014-03-04T19:05:07.000000000'),\n",
       " numpy.datetime64('2014-03-06T19:05:07.000000000'),\n",
       " numpy.datetime64('2014-03-08T19:05:07.000000000'),\n",
       " numpy.datetime64('2014-03-09T19:05:07.000000000'),\n",
       " numpy.datetime64('2014-03-10T19:05:07.000000000'),\n",
       " numpy.datetime64('2014-03-11T19:05:07.000000000'),\n",
       " numpy.datetime64('2014-03-13T19:05:07.000000000'),\n",
       " numpy.datetime64('2014-03-15T19:05:07.000000000'),\n",
       " numpy.datetime64('2014-03-18T19:05:07.000000000'),\n",
       " numpy.datetime64('2014-03-19T19:05:07.000000000'),\n",
       " numpy.datetime64('2014-03-20T19:05:07.000000000'),\n",
       " numpy.datetime64('2014-03-21T19:05:07.000000000'),\n",
       " numpy.datetime64('2014-03-22T19:05:07.000000000'),\n",
       " numpy.datetime64('2014-03-23T19:05:07.000000000'),\n",
       " numpy.datetime64('2014-03-24T19:05:07.000000000'),\n",
       " numpy.datetime64('2014-03-25T19:05:07.000000000'),\n",
       " numpy.datetime64('2014-03-27T19:05:07.000000000'),\n",
       " numpy.datetime64('2014-03-28T19:05:07.000000000'),\n",
       " numpy.datetime64('2014-04-01T19:05:07.000000000'),\n",
       " numpy.datetime64('2014-04-02T19:05:07.000000000'),\n",
       " numpy.datetime64('2014-04-03T19:05:07.000000000'),\n",
       " numpy.datetime64('2014-04-04T19:05:07.000000000'),\n",
       " numpy.datetime64('2014-04-05T19:05:07.000000000'),\n",
       " numpy.datetime64('2014-04-08T19:05:07.000000000'),\n",
       " numpy.datetime64('2014-04-12T19:05:07.000000000'),\n",
       " numpy.datetime64('2014-04-13T19:05:07.000000000'),\n",
       " numpy.datetime64('2014-04-15T19:05:07.000000000'),\n",
       " numpy.datetime64('2014-04-17T19:05:07.000000000'),\n",
       " numpy.datetime64('2014-04-19T19:05:07.000000000'),\n",
       " numpy.datetime64('2014-04-21T19:05:07.000000000'),\n",
       " numpy.datetime64('2014-04-22T19:05:07.000000000'),\n",
       " numpy.datetime64('2014-04-23T19:05:07.000000000'),\n",
       " numpy.datetime64('2014-04-25T19:05:07.000000000'),\n",
       " numpy.datetime64('2014-04-27T19:05:07.000000000'),\n",
       " numpy.datetime64('2014-04-29T19:05:07.000000000'),\n",
       " numpy.datetime64('2014-05-01T19:05:07.000000000'),\n",
       " numpy.datetime64('2014-05-04T19:05:07.000000000'),\n",
       " numpy.datetime64('2014-05-05T19:05:07.000000000'),\n",
       " numpy.datetime64('2014-05-06T19:05:07.000000000'),\n",
       " numpy.datetime64('2014-05-07T19:05:07.000000000'),\n",
       " numpy.datetime64('2014-05-08T19:05:07.000000000'),\n",
       " numpy.datetime64('2014-05-11T19:05:07.000000000'),\n",
       " numpy.datetime64('2014-05-12T19:05:07.000000000'),\n",
       " numpy.datetime64('2014-05-18T19:05:07.000000000'),\n",
       " numpy.datetime64('2014-05-21T19:05:07.000000000'),\n",
       " numpy.datetime64('2014-05-23T19:05:07.000000000'),\n",
       " numpy.datetime64('2014-05-25T19:05:07.000000000'),\n",
       " numpy.datetime64('2013-01-01T07:13:17.000000000'),\n",
       " numpy.datetime64('2013-01-31T07:13:17.000000000'),\n",
       " numpy.datetime64('2013-03-08T07:13:17.000000000'),\n",
       " numpy.datetime64('2013-03-09T07:13:17.000000000'),\n",
       " numpy.datetime64('2013-03-11T07:13:17.000000000'),\n",
       " numpy.datetime64('2013-03-12T07:13:17.000000000'),\n",
       " numpy.datetime64('2013-03-16T07:13:17.000000000'),\n",
       " numpy.datetime64('2013-04-15T07:13:17.000000000'),\n",
       " numpy.datetime64('2014-05-29T16:43:12.000000000'),\n",
       " numpy.datetime64('2014-04-30T21:55:19.000000000'),\n",
       " numpy.datetime64('2014-01-01T18:42:08.000000000'),\n",
       " numpy.datetime64('2012-06-08T13:23:02.000000000'),\n",
       " numpy.datetime64('2013-11-04T14:37:00.000000000'),\n",
       " numpy.datetime64('2013-10-13T10:06:52.000000000'),\n",
       " numpy.datetime64('2012-06-05T11:02:08.000000000'),\n",
       " numpy.datetime64('2012-06-23T11:02:08.000000000'),\n",
       " numpy.datetime64('2012-07-07T11:02:08.000000000'),\n",
       " numpy.datetime64('2012-07-14T11:02:08.000000000'),\n",
       " numpy.datetime64('2012-07-15T11:02:08.000000000'),\n",
       " numpy.datetime64('2012-07-24T11:02:08.000000000'),\n",
       " numpy.datetime64('2012-08-15T11:02:08.000000000'),\n",
       " numpy.datetime64('2012-08-18T11:02:08.000000000'),\n",
       " numpy.datetime64('2012-08-22T11:02:08.000000000'),\n",
       " numpy.datetime64('2012-08-25T11:02:08.000000000'),\n",
       " numpy.datetime64('2012-09-06T11:02:08.000000000'),\n",
       " numpy.datetime64('2012-09-16T11:02:08.000000000'),\n",
       " numpy.datetime64('2012-09-20T11:02:08.000000000'),\n",
       " numpy.datetime64('2012-09-22T11:02:08.000000000'),\n",
       " numpy.datetime64('2012-09-28T11:02:08.000000000'),\n",
       " numpy.datetime64('2012-10-02T11:02:08.000000000'),\n",
       " numpy.datetime64('2012-10-23T11:02:08.000000000'),\n",
       " numpy.datetime64('2013-08-22T09:53:43.000000000'),\n",
       " numpy.datetime64('2013-02-13T23:47:15.000000000'),\n",
       " numpy.datetime64('2013-02-15T23:47:15.000000000'),\n",
       " numpy.datetime64('2013-02-17T23:47:15.000000000'),\n",
       " numpy.datetime64('2013-02-18T23:47:15.000000000'),\n",
       " numpy.datetime64('2013-02-21T23:47:15.000000000'),\n",
       " numpy.datetime64('2013-03-02T23:47:15.000000000'),\n",
       " numpy.datetime64('2013-03-30T23:47:15.000000000'),\n",
       " numpy.datetime64('2013-04-15T23:47:15.000000000'),\n",
       " numpy.datetime64('2013-05-05T23:47:15.000000000'),\n",
       " numpy.datetime64('2013-03-20T12:31:27.000000000'),\n",
       " numpy.datetime64('2012-07-20T23:00:26.000000000'),\n",
       " numpy.datetime64('2013-12-02T08:50:02.000000000'),\n",
       " numpy.datetime64('2013-11-19T17:48:04.000000000'),\n",
       " numpy.datetime64('2013-01-28T17:44:26.000000000'),\n",
       " numpy.datetime64('2014-03-10T03:21:57.000000000'),\n",
       " numpy.datetime64('2014-05-08T03:21:57.000000000'),\n",
       " numpy.datetime64('2014-06-01T03:21:57.000000000'),\n",
       " numpy.datetime64('2014-03-21T22:56:03.000000000'),\n",
       " numpy.datetime64('2014-03-29T22:56:03.000000000'),\n",
       " numpy.datetime64('2014-04-02T22:56:03.000000000'),\n",
       " numpy.datetime64('2014-04-05T22:56:03.000000000'),\n",
       " numpy.datetime64('2014-04-22T22:56:03.000000000'),\n",
       " numpy.datetime64('2014-04-28T22:56:03.000000000'),\n",
       " numpy.datetime64('2014-05-13T22:56:03.000000000'),\n",
       " numpy.datetime64('2014-05-15T22:56:03.000000000'),\n",
       " numpy.datetime64('2014-05-14T03:45:47.000000000'),\n",
       " numpy.datetime64('2012-12-20T16:30:52.000000000'),\n",
       " numpy.datetime64('2013-01-18T16:30:52.000000000'),\n",
       " numpy.datetime64('2013-01-24T16:30:52.000000000'),\n",
       " numpy.datetime64('2013-01-25T16:30:52.000000000'),\n",
       " numpy.datetime64('2013-01-26T16:30:52.000000000'),\n",
       " numpy.datetime64('2013-01-27T16:30:52.000000000'),\n",
       " numpy.datetime64('2013-01-29T16:30:52.000000000'),\n",
       " numpy.datetime64('2013-01-30T16:30:52.000000000'),\n",
       " numpy.datetime64('2013-01-31T16:30:52.000000000'),\n",
       " numpy.datetime64('2013-02-02T16:30:52.000000000'),\n",
       " numpy.datetime64('2013-02-04T16:30:52.000000000'),\n",
       " numpy.datetime64('2013-02-10T16:30:52.000000000'),\n",
       " numpy.datetime64('2013-02-11T16:30:52.000000000'),\n",
       " numpy.datetime64('2013-02-14T16:30:52.000000000'),\n",
       " numpy.datetime64('2013-02-28T16:30:52.000000000'),\n",
       " numpy.datetime64('2013-03-01T16:30:52.000000000'),\n",
       " numpy.datetime64('2013-03-05T16:30:52.000000000'),\n",
       " numpy.datetime64('2013-03-08T16:30:52.000000000'),\n",
       " numpy.datetime64('2013-03-11T16:30:52.000000000'),\n",
       " numpy.datetime64('2013-03-15T16:30:52.000000000'),\n",
       " numpy.datetime64('2013-03-17T16:30:52.000000000'),\n",
       " numpy.datetime64('2013-03-18T16:30:52.000000000'),\n",
       " numpy.datetime64('2013-03-20T16:30:52.000000000'),\n",
       " numpy.datetime64('2013-03-23T16:30:52.000000000'),\n",
       " numpy.datetime64('2013-03-24T16:30:52.000000000'),\n",
       " numpy.datetime64('2013-03-25T16:30:52.000000000'),\n",
       " numpy.datetime64('2013-03-28T16:30:52.000000000'),\n",
       " numpy.datetime64('2013-03-29T16:30:52.000000000'),\n",
       " numpy.datetime64('2013-03-31T16:30:52.000000000'),\n",
       " numpy.datetime64('2013-04-01T16:30:52.000000000'),\n",
       " numpy.datetime64('2013-04-02T16:30:52.000000000'),\n",
       " numpy.datetime64('2013-04-03T16:30:52.000000000'),\n",
       " numpy.datetime64('2013-04-04T16:30:52.000000000'),\n",
       " numpy.datetime64('2013-04-05T16:30:52.000000000'),\n",
       " numpy.datetime64('2013-04-10T16:30:52.000000000'),\n",
       " numpy.datetime64('2013-04-13T16:30:52.000000000'),\n",
       " numpy.datetime64('2013-04-16T16:30:52.000000000'),\n",
       " numpy.datetime64('2013-04-19T16:30:52.000000000'),\n",
       " numpy.datetime64('2013-04-21T16:30:52.000000000'),\n",
       " numpy.datetime64('2013-04-22T16:30:52.000000000'),\n",
       " numpy.datetime64('2013-04-24T16:30:52.000000000'),\n",
       " numpy.datetime64('2013-04-25T16:30:52.000000000'),\n",
       " numpy.datetime64('2013-04-26T16:30:52.000000000'),\n",
       " numpy.datetime64('2013-04-29T16:30:52.000000000'),\n",
       " numpy.datetime64('2013-05-01T16:30:52.000000000'),\n",
       " numpy.datetime64('2013-05-08T16:30:52.000000000'),\n",
       " numpy.datetime64('2013-05-14T16:30:52.000000000'),\n",
       " numpy.datetime64('2013-05-15T16:30:52.000000000'),\n",
       " numpy.datetime64('2013-05-18T16:30:52.000000000'),\n",
       " numpy.datetime64('2013-05-19T16:30:52.000000000'),\n",
       " numpy.datetime64('2013-05-20T16:30:52.000000000'),\n",
       " numpy.datetime64('2013-05-25T16:30:52.000000000'),\n",
       " numpy.datetime64('2013-05-26T16:30:52.000000000'),\n",
       " numpy.datetime64('2013-05-29T16:30:52.000000000'),\n",
       " numpy.datetime64('2013-06-02T16:30:52.000000000'),\n",
       " numpy.datetime64('2013-06-04T16:30:52.000000000'),\n",
       " numpy.datetime64('2013-06-05T16:30:52.000000000'),\n",
       " numpy.datetime64('2013-06-06T16:30:52.000000000'),\n",
       " numpy.datetime64('2013-06-07T16:30:52.000000000'),\n",
       " numpy.datetime64('2013-06-09T16:30:52.000000000'),\n",
       " numpy.datetime64('2013-06-10T16:30:52.000000000'),\n",
       " numpy.datetime64('2013-06-11T16:30:52.000000000'),\n",
       " numpy.datetime64('2013-06-15T16:30:52.000000000'),\n",
       " numpy.datetime64('2013-06-21T16:30:52.000000000'),\n",
       " numpy.datetime64('2013-06-22T16:30:52.000000000'),\n",
       " numpy.datetime64('2013-06-23T16:30:52.000000000'),\n",
       " numpy.datetime64('2013-06-27T16:30:52.000000000'),\n",
       " numpy.datetime64('2013-06-29T16:30:52.000000000'),\n",
       " numpy.datetime64('2013-06-30T16:30:52.000000000'),\n",
       " numpy.datetime64('2013-07-05T16:30:52.000000000'),\n",
       " numpy.datetime64('2013-07-06T16:30:52.000000000'),\n",
       " numpy.datetime64('2013-07-07T16:30:52.000000000'),\n",
       " numpy.datetime64('2013-07-09T16:30:52.000000000'),\n",
       " numpy.datetime64('2013-07-10T16:30:52.000000000'),\n",
       " numpy.datetime64('2013-07-13T16:30:52.000000000'),\n",
       " numpy.datetime64('2013-07-14T16:30:52.000000000'),\n",
       " numpy.datetime64('2013-07-17T16:30:52.000000000'),\n",
       " numpy.datetime64('2013-07-18T16:30:52.000000000'),\n",
       " numpy.datetime64('2013-07-19T16:30:52.000000000'),\n",
       " numpy.datetime64('2013-07-22T16:30:52.000000000'),\n",
       " numpy.datetime64('2013-07-30T16:30:52.000000000'),\n",
       " numpy.datetime64('2013-08-01T16:30:52.000000000'),\n",
       " numpy.datetime64('2013-08-02T16:30:52.000000000'),\n",
       " numpy.datetime64('2013-08-03T16:30:52.000000000'),\n",
       " numpy.datetime64('2013-08-04T16:30:52.000000000'),\n",
       " numpy.datetime64('2013-08-07T16:30:52.000000000'),\n",
       " numpy.datetime64('2013-08-08T16:30:52.000000000'),\n",
       " numpy.datetime64('2013-08-09T16:30:52.000000000'),\n",
       " numpy.datetime64('2013-08-10T16:30:52.000000000'),\n",
       " numpy.datetime64('2013-08-13T16:30:52.000000000'),\n",
       " numpy.datetime64('2013-08-15T16:30:52.000000000'),\n",
       " numpy.datetime64('2013-08-17T16:30:52.000000000'),\n",
       " numpy.datetime64('2013-08-18T16:30:52.000000000'),\n",
       " numpy.datetime64('2013-08-19T16:30:52.000000000'),\n",
       " numpy.datetime64('2013-08-22T16:30:52.000000000'),\n",
       " numpy.datetime64('2013-08-24T16:30:52.000000000'),\n",
       " numpy.datetime64('2013-08-25T16:30:52.000000000'),\n",
       " numpy.datetime64('2013-08-27T16:30:52.000000000'),\n",
       " numpy.datetime64('2013-08-28T16:30:52.000000000'),\n",
       " numpy.datetime64('2013-08-29T16:30:52.000000000'),\n",
       " numpy.datetime64('2013-08-31T16:30:52.000000000'),\n",
       " numpy.datetime64('2013-09-01T16:30:52.000000000'),\n",
       " numpy.datetime64('2013-09-02T16:30:52.000000000'),\n",
       " numpy.datetime64('2013-09-05T16:30:52.000000000'),\n",
       " numpy.datetime64('2013-09-06T16:30:52.000000000'),\n",
       " numpy.datetime64('2013-09-07T16:30:52.000000000'),\n",
       " numpy.datetime64('2013-09-08T16:30:52.000000000'),\n",
       " numpy.datetime64('2013-09-09T16:30:52.000000000'),\n",
       " numpy.datetime64('2013-09-10T16:30:52.000000000'),\n",
       " numpy.datetime64('2013-09-12T16:30:52.000000000'),\n",
       " numpy.datetime64('2013-09-13T16:30:52.000000000'),\n",
       " numpy.datetime64('2013-09-15T16:30:52.000000000'),\n",
       " numpy.datetime64('2013-09-16T16:30:52.000000000'),\n",
       " numpy.datetime64('2013-09-17T16:30:52.000000000'),\n",
       " numpy.datetime64('2013-09-18T16:30:52.000000000'),\n",
       " numpy.datetime64('2013-09-19T16:30:52.000000000'),\n",
       " numpy.datetime64('2013-09-22T16:30:52.000000000'),\n",
       " numpy.datetime64('2013-09-23T16:30:52.000000000'),\n",
       " numpy.datetime64('2013-09-24T16:30:52.000000000'),\n",
       " numpy.datetime64('2013-09-26T16:30:52.000000000'),\n",
       " numpy.datetime64('2013-09-27T16:30:52.000000000'),\n",
       " numpy.datetime64('2013-09-28T16:30:52.000000000'),\n",
       " numpy.datetime64('2013-09-29T16:30:52.000000000'),\n",
       " numpy.datetime64('2013-10-01T16:30:52.000000000'),\n",
       " numpy.datetime64('2013-10-02T16:30:52.000000000'),\n",
       " numpy.datetime64('2013-10-03T16:30:52.000000000'),\n",
       " numpy.datetime64('2013-10-04T16:30:52.000000000'),\n",
       " numpy.datetime64('2013-10-05T16:30:52.000000000'),\n",
       " numpy.datetime64('2013-10-06T16:30:52.000000000'),\n",
       " numpy.datetime64('2013-10-07T16:30:52.000000000'),\n",
       " numpy.datetime64('2013-10-08T16:30:52.000000000'),\n",
       " numpy.datetime64('2013-10-10T16:30:52.000000000'),\n",
       " numpy.datetime64('2013-10-11T16:30:52.000000000'),\n",
       " numpy.datetime64('2013-10-14T16:30:52.000000000'),\n",
       " numpy.datetime64('2013-10-15T16:30:52.000000000'),\n",
       " numpy.datetime64('2013-10-17T16:30:52.000000000'),\n",
       " numpy.datetime64('2013-10-18T16:30:52.000000000'),\n",
       " numpy.datetime64('2013-10-19T16:30:52.000000000'),\n",
       " numpy.datetime64('2013-10-20T16:30:52.000000000'),\n",
       " numpy.datetime64('2013-10-23T16:30:52.000000000'),\n",
       " numpy.datetime64('2013-10-24T16:30:52.000000000'),\n",
       " numpy.datetime64('2013-10-25T16:30:52.000000000'),\n",
       " numpy.datetime64('2013-10-26T16:30:52.000000000'),\n",
       " numpy.datetime64('2013-10-27T16:30:52.000000000'),\n",
       " numpy.datetime64('2013-10-28T16:30:52.000000000'),\n",
       " numpy.datetime64('2013-10-29T16:30:52.000000000'),\n",
       " numpy.datetime64('2013-10-30T16:30:52.000000000'),\n",
       " numpy.datetime64('2013-10-31T16:30:52.000000000'),\n",
       " numpy.datetime64('2013-11-01T16:30:52.000000000'),\n",
       " numpy.datetime64('2013-11-02T16:30:52.000000000'),\n",
       " numpy.datetime64('2013-11-03T16:30:52.000000000'),\n",
       " numpy.datetime64('2013-11-04T16:30:52.000000000'),\n",
       " numpy.datetime64('2013-11-05T16:30:52.000000000'),\n",
       " numpy.datetime64('2013-11-06T16:30:52.000000000'),\n",
       " numpy.datetime64('2013-11-07T16:30:52.000000000'),\n",
       " numpy.datetime64('2013-11-08T16:30:52.000000000'),\n",
       " numpy.datetime64('2013-11-10T16:30:52.000000000'),\n",
       " numpy.datetime64('2013-11-11T16:30:52.000000000'),\n",
       " numpy.datetime64('2013-11-12T16:30:52.000000000'),\n",
       " numpy.datetime64('2013-11-13T16:30:52.000000000'),\n",
       " numpy.datetime64('2013-11-14T16:30:52.000000000'),\n",
       " numpy.datetime64('2013-11-15T16:30:52.000000000'),\n",
       " numpy.datetime64('2013-11-17T16:30:52.000000000'),\n",
       " numpy.datetime64('2013-11-18T16:30:52.000000000'),\n",
       " numpy.datetime64('2013-11-19T16:30:52.000000000'),\n",
       " numpy.datetime64('2013-11-20T16:30:52.000000000'),\n",
       " numpy.datetime64('2013-11-21T16:30:52.000000000'),\n",
       " numpy.datetime64('2013-11-22T16:30:52.000000000'),\n",
       " numpy.datetime64('2013-11-23T16:30:52.000000000'),\n",
       " numpy.datetime64('2013-11-24T16:30:52.000000000'),\n",
       " numpy.datetime64('2013-11-25T16:30:52.000000000'),\n",
       " numpy.datetime64('2013-11-26T16:30:52.000000000'),\n",
       " numpy.datetime64('2013-11-27T16:30:52.000000000'),\n",
       " numpy.datetime64('2013-11-28T16:30:52.000000000'),\n",
       " numpy.datetime64('2013-11-29T16:30:52.000000000'),\n",
       " numpy.datetime64('2013-11-30T16:30:52.000000000'),\n",
       " numpy.datetime64('2013-12-01T16:30:52.000000000'),\n",
       " numpy.datetime64('2013-12-02T16:30:52.000000000'),\n",
       " numpy.datetime64('2013-12-03T16:30:52.000000000'),\n",
       " numpy.datetime64('2013-12-04T16:30:52.000000000'),\n",
       " numpy.datetime64('2013-12-05T16:30:52.000000000'),\n",
       " numpy.datetime64('2013-12-06T16:30:52.000000000'),\n",
       " numpy.datetime64('2013-12-07T16:30:52.000000000'),\n",
       " numpy.datetime64('2013-12-08T16:30:52.000000000'),\n",
       " numpy.datetime64('2013-12-09T16:30:52.000000000'),\n",
       " numpy.datetime64('2013-12-10T16:30:52.000000000'),\n",
       " numpy.datetime64('2013-12-11T16:30:52.000000000'),\n",
       " numpy.datetime64('2013-12-12T16:30:52.000000000'),\n",
       " numpy.datetime64('2013-12-13T16:30:52.000000000'),\n",
       " numpy.datetime64('2013-12-14T16:30:52.000000000'),\n",
       " numpy.datetime64('2013-12-15T16:30:52.000000000'),\n",
       " numpy.datetime64('2013-12-16T16:30:52.000000000'),\n",
       " numpy.datetime64('2013-12-17T16:30:52.000000000'),\n",
       " numpy.datetime64('2013-12-18T16:30:52.000000000'),\n",
       " numpy.datetime64('2013-12-19T16:30:52.000000000'),\n",
       " numpy.datetime64('2013-12-20T16:30:52.000000000'),\n",
       " numpy.datetime64('2013-12-21T16:30:52.000000000'),\n",
       " numpy.datetime64('2013-12-22T16:30:52.000000000'),\n",
       " numpy.datetime64('2013-12-23T16:30:52.000000000'),\n",
       " numpy.datetime64('2013-12-24T16:30:52.000000000'),\n",
       " numpy.datetime64('2013-12-25T16:30:52.000000000'),\n",
       " numpy.datetime64('2013-12-26T16:30:52.000000000'),\n",
       " numpy.datetime64('2013-12-27T16:30:52.000000000'),\n",
       " numpy.datetime64('2013-12-28T16:30:52.000000000'),\n",
       " numpy.datetime64('2013-12-29T16:30:52.000000000'),\n",
       " numpy.datetime64('2013-12-30T16:30:52.000000000'),\n",
       " numpy.datetime64('2013-12-31T16:30:52.000000000'),\n",
       " numpy.datetime64('2014-01-01T16:30:52.000000000'),\n",
       " numpy.datetime64('2014-01-02T16:30:52.000000000'),\n",
       " numpy.datetime64('2014-01-03T16:30:52.000000000'),\n",
       " numpy.datetime64('2014-01-04T16:30:52.000000000'),\n",
       " numpy.datetime64('2014-01-05T16:30:52.000000000'),\n",
       " numpy.datetime64('2014-01-06T16:30:52.000000000'),\n",
       " numpy.datetime64('2014-01-07T16:30:52.000000000'),\n",
       " numpy.datetime64('2014-01-08T16:30:52.000000000'),\n",
       " numpy.datetime64('2014-01-09T16:30:52.000000000'),\n",
       " numpy.datetime64('2014-01-10T16:30:52.000000000'),\n",
       " numpy.datetime64('2014-01-11T16:30:52.000000000'),\n",
       " numpy.datetime64('2014-01-12T16:30:52.000000000'),\n",
       " numpy.datetime64('2014-01-13T16:30:52.000000000'),\n",
       " numpy.datetime64('2014-01-14T16:30:52.000000000'),\n",
       " numpy.datetime64('2014-01-15T16:30:52.000000000'),\n",
       " numpy.datetime64('2014-01-16T16:30:52.000000000'),\n",
       " numpy.datetime64('2014-01-17T16:30:52.000000000'),\n",
       " numpy.datetime64('2014-01-18T16:30:52.000000000'),\n",
       " numpy.datetime64('2014-01-19T16:30:52.000000000'),\n",
       " numpy.datetime64('2014-01-20T16:30:52.000000000'),\n",
       " numpy.datetime64('2014-01-21T16:30:52.000000000'),\n",
       " numpy.datetime64('2014-01-22T16:30:52.000000000'),\n",
       " numpy.datetime64('2014-01-23T16:30:52.000000000'),\n",
       " numpy.datetime64('2014-01-24T16:30:52.000000000'),\n",
       " numpy.datetime64('2014-01-25T16:30:52.000000000'),\n",
       " numpy.datetime64('2014-01-26T16:30:52.000000000'),\n",
       " numpy.datetime64('2014-01-27T16:30:52.000000000'),\n",
       " numpy.datetime64('2014-01-28T16:30:52.000000000'),\n",
       " numpy.datetime64('2014-01-29T16:30:52.000000000'),\n",
       " numpy.datetime64('2014-01-30T16:30:52.000000000'),\n",
       " numpy.datetime64('2014-01-31T16:30:52.000000000'),\n",
       " numpy.datetime64('2014-02-01T16:30:52.000000000'),\n",
       " numpy.datetime64('2014-02-02T16:30:52.000000000'),\n",
       " numpy.datetime64('2014-02-03T16:30:52.000000000'),\n",
       " numpy.datetime64('2014-02-04T16:30:52.000000000'),\n",
       " numpy.datetime64('2014-02-05T16:30:52.000000000'),\n",
       " numpy.datetime64('2014-02-06T16:30:52.000000000'),\n",
       " numpy.datetime64('2014-02-07T16:30:52.000000000'),\n",
       " numpy.datetime64('2014-02-08T16:30:52.000000000'),\n",
       " numpy.datetime64('2014-02-09T16:30:52.000000000'),\n",
       " numpy.datetime64('2014-02-10T16:30:52.000000000'),\n",
       " numpy.datetime64('2014-02-11T16:30:52.000000000'),\n",
       " numpy.datetime64('2014-02-12T16:30:52.000000000'),\n",
       " ...]"
      ]
     },
     "execution_count": 28,
     "metadata": {},
     "output_type": "execute_result"
    }
   ],
   "source": [
    "days = list(df_dummy['login_day'].unique())\n",
    "days"
   ]
  },
  {
   "cell_type": "code",
   "execution_count": 29,
   "metadata": {},
   "outputs": [],
   "source": [
    "df_new_index = df_dummy.set_index('login_day')"
   ]
  },
  {
   "cell_type": "code",
   "execution_count": 30,
   "metadata": {},
   "outputs": [
    {
     "data": {
      "text/html": [
       "<div>\n",
       "<style scoped>\n",
       "    .dataframe tbody tr th:only-of-type {\n",
       "        vertical-align: middle;\n",
       "    }\n",
       "\n",
       "    .dataframe tbody tr th {\n",
       "        vertical-align: top;\n",
       "    }\n",
       "\n",
       "    .dataframe thead th {\n",
       "        text-align: right;\n",
       "    }\n",
       "</style>\n",
       "<table border=\"1\" class=\"dataframe\">\n",
       "  <thead>\n",
       "    <tr style=\"text-align: right;\">\n",
       "      <th></th>\n",
       "      <th>user_id</th>\n",
       "      <th>creation_source</th>\n",
       "      <th>last_session_creation_time</th>\n",
       "      <th>opted_in_to_mailing_list</th>\n",
       "      <th>enabled_for_marketing_drip</th>\n",
       "      <th>org_id</th>\n",
       "      <th>invited_by_user_id</th>\n",
       "      <th>visited</th>\n",
       "      <th>creation_ts</th>\n",
       "      <th>timestamp_ts</th>\n",
       "    </tr>\n",
       "    <tr>\n",
       "      <th>login_day</th>\n",
       "      <th></th>\n",
       "      <th></th>\n",
       "      <th></th>\n",
       "      <th></th>\n",
       "      <th></th>\n",
       "      <th></th>\n",
       "      <th></th>\n",
       "      <th></th>\n",
       "      <th></th>\n",
       "      <th></th>\n",
       "    </tr>\n",
       "  </thead>\n",
       "  <tbody>\n",
       "    <tr>\n",
       "      <th>2014-04-22 03:53:30</th>\n",
       "      <td>1</td>\n",
       "      <td>GUEST_INVITE</td>\n",
       "      <td>1.398139e+09</td>\n",
       "      <td>1</td>\n",
       "      <td>0</td>\n",
       "      <td>11</td>\n",
       "      <td>10803.0</td>\n",
       "      <td>1.0</td>\n",
       "      <td>1.398139e+09</td>\n",
       "      <td>1.398139e+09</td>\n",
       "    </tr>\n",
       "    <tr>\n",
       "      <th>2013-11-15 03:45:04</th>\n",
       "      <td>2</td>\n",
       "      <td>ORG_INVITE</td>\n",
       "      <td>1.396238e+09</td>\n",
       "      <td>0</td>\n",
       "      <td>0</td>\n",
       "      <td>1</td>\n",
       "      <td>316.0</td>\n",
       "      <td>1.0</td>\n",
       "      <td>1.384487e+09</td>\n",
       "      <td>1.384487e+09</td>\n",
       "    </tr>\n",
       "    <tr>\n",
       "      <th>2013-11-29 03:45:04</th>\n",
       "      <td>2</td>\n",
       "      <td>ORG_INVITE</td>\n",
       "      <td>1.396238e+09</td>\n",
       "      <td>0</td>\n",
       "      <td>0</td>\n",
       "      <td>1</td>\n",
       "      <td>316.0</td>\n",
       "      <td>1.0</td>\n",
       "      <td>1.384487e+09</td>\n",
       "      <td>1.385697e+09</td>\n",
       "    </tr>\n",
       "    <tr>\n",
       "      <th>2013-12-09 03:45:04</th>\n",
       "      <td>2</td>\n",
       "      <td>ORG_INVITE</td>\n",
       "      <td>1.396238e+09</td>\n",
       "      <td>0</td>\n",
       "      <td>0</td>\n",
       "      <td>1</td>\n",
       "      <td>316.0</td>\n",
       "      <td>1.0</td>\n",
       "      <td>1.384487e+09</td>\n",
       "      <td>1.386561e+09</td>\n",
       "    </tr>\n",
       "    <tr>\n",
       "      <th>2013-12-25 03:45:04</th>\n",
       "      <td>2</td>\n",
       "      <td>ORG_INVITE</td>\n",
       "      <td>1.396238e+09</td>\n",
       "      <td>0</td>\n",
       "      <td>0</td>\n",
       "      <td>1</td>\n",
       "      <td>316.0</td>\n",
       "      <td>1.0</td>\n",
       "      <td>1.384487e+09</td>\n",
       "      <td>1.387943e+09</td>\n",
       "    </tr>\n",
       "  </tbody>\n",
       "</table>\n",
       "</div>"
      ],
      "text/plain": [
       "                     user_id creation_source  last_session_creation_time  \\\n",
       "login_day                                                                  \n",
       "2014-04-22 03:53:30        1    GUEST_INVITE                1.398139e+09   \n",
       "2013-11-15 03:45:04        2      ORG_INVITE                1.396238e+09   \n",
       "2013-11-29 03:45:04        2      ORG_INVITE                1.396238e+09   \n",
       "2013-12-09 03:45:04        2      ORG_INVITE                1.396238e+09   \n",
       "2013-12-25 03:45:04        2      ORG_INVITE                1.396238e+09   \n",
       "\n",
       "                     opted_in_to_mailing_list  enabled_for_marketing_drip  \\\n",
       "login_day                                                                   \n",
       "2014-04-22 03:53:30                         1                           0   \n",
       "2013-11-15 03:45:04                         0                           0   \n",
       "2013-11-29 03:45:04                         0                           0   \n",
       "2013-12-09 03:45:04                         0                           0   \n",
       "2013-12-25 03:45:04                         0                           0   \n",
       "\n",
       "                     org_id  invited_by_user_id  visited   creation_ts  \\\n",
       "login_day                                                                \n",
       "2014-04-22 03:53:30      11             10803.0      1.0  1.398139e+09   \n",
       "2013-11-15 03:45:04       1               316.0      1.0  1.384487e+09   \n",
       "2013-11-29 03:45:04       1               316.0      1.0  1.384487e+09   \n",
       "2013-12-09 03:45:04       1               316.0      1.0  1.384487e+09   \n",
       "2013-12-25 03:45:04       1               316.0      1.0  1.384487e+09   \n",
       "\n",
       "                     timestamp_ts  \n",
       "login_day                          \n",
       "2014-04-22 03:53:30  1.398139e+09  \n",
       "2013-11-15 03:45:04  1.384487e+09  \n",
       "2013-11-29 03:45:04  1.385697e+09  \n",
       "2013-12-09 03:45:04  1.386561e+09  \n",
       "2013-12-25 03:45:04  1.387943e+09  "
      ]
     },
     "execution_count": 30,
     "metadata": {},
     "output_type": "execute_result"
    }
   ],
   "source": [
    "df_new_index.head()"
   ]
  },
  {
   "cell_type": "code",
   "execution_count": 31,
   "metadata": {},
   "outputs": [],
   "source": [
    "df_session_count = df_new_index.groupby([pd.Grouper(freq='3D'), 'user_id']).agg(num_sessions=(\"last_session_creation_time\",\"count\")).reset_index()"
   ]
  },
  {
   "cell_type": "code",
   "execution_count": 32,
   "metadata": {},
   "outputs": [
    {
     "data": {
      "text/plain": [
       "(121472, 3)"
      ]
     },
     "execution_count": 32,
     "metadata": {},
     "output_type": "execute_result"
    }
   ],
   "source": [
    "df_session_count.shape"
   ]
  },
  {
   "cell_type": "code",
   "execution_count": 33,
   "metadata": {},
   "outputs": [
    {
     "data": {
      "text/html": [
       "<div>\n",
       "<style scoped>\n",
       "    .dataframe tbody tr th:only-of-type {\n",
       "        vertical-align: middle;\n",
       "    }\n",
       "\n",
       "    .dataframe tbody tr th {\n",
       "        vertical-align: top;\n",
       "    }\n",
       "\n",
       "    .dataframe thead th {\n",
       "        text-align: right;\n",
       "    }\n",
       "</style>\n",
       "<table border=\"1\" class=\"dataframe\">\n",
       "  <thead>\n",
       "    <tr style=\"text-align: right;\">\n",
       "      <th></th>\n",
       "      <th>login_day</th>\n",
       "      <th>user_id</th>\n",
       "      <th>num_sessions</th>\n",
       "    </tr>\n",
       "  </thead>\n",
       "  <tbody>\n",
       "    <tr>\n",
       "      <th>0</th>\n",
       "      <td>1969-12-31</td>\n",
       "      <td>8</td>\n",
       "      <td>0</td>\n",
       "    </tr>\n",
       "    <tr>\n",
       "      <th>1</th>\n",
       "      <td>1969-12-31</td>\n",
       "      <td>9</td>\n",
       "      <td>0</td>\n",
       "    </tr>\n",
       "    <tr>\n",
       "      <th>2</th>\n",
       "      <td>1969-12-31</td>\n",
       "      <td>12</td>\n",
       "      <td>0</td>\n",
       "    </tr>\n",
       "    <tr>\n",
       "      <th>3</th>\n",
       "      <td>1969-12-31</td>\n",
       "      <td>15</td>\n",
       "      <td>0</td>\n",
       "    </tr>\n",
       "    <tr>\n",
       "      <th>4</th>\n",
       "      <td>1969-12-31</td>\n",
       "      <td>16</td>\n",
       "      <td>0</td>\n",
       "    </tr>\n",
       "    <tr>\n",
       "      <th>...</th>\n",
       "      <td>...</td>\n",
       "      <td>...</td>\n",
       "      <td>...</td>\n",
       "    </tr>\n",
       "    <tr>\n",
       "      <th>95</th>\n",
       "      <td>1969-12-31</td>\n",
       "      <td>392</td>\n",
       "      <td>0</td>\n",
       "    </tr>\n",
       "    <tr>\n",
       "      <th>96</th>\n",
       "      <td>1969-12-31</td>\n",
       "      <td>396</td>\n",
       "      <td>0</td>\n",
       "    </tr>\n",
       "    <tr>\n",
       "      <th>97</th>\n",
       "      <td>1969-12-31</td>\n",
       "      <td>404</td>\n",
       "      <td>0</td>\n",
       "    </tr>\n",
       "    <tr>\n",
       "      <th>98</th>\n",
       "      <td>1969-12-31</td>\n",
       "      <td>410</td>\n",
       "      <td>0</td>\n",
       "    </tr>\n",
       "    <tr>\n",
       "      <th>99</th>\n",
       "      <td>1969-12-31</td>\n",
       "      <td>412</td>\n",
       "      <td>0</td>\n",
       "    </tr>\n",
       "  </tbody>\n",
       "</table>\n",
       "<p>100 rows × 3 columns</p>\n",
       "</div>"
      ],
      "text/plain": [
       "    login_day  user_id  num_sessions\n",
       "0  1969-12-31        8             0\n",
       "1  1969-12-31        9             0\n",
       "2  1969-12-31       12             0\n",
       "3  1969-12-31       15             0\n",
       "4  1969-12-31       16             0\n",
       "..        ...      ...           ...\n",
       "95 1969-12-31      392             0\n",
       "96 1969-12-31      396             0\n",
       "97 1969-12-31      404             0\n",
       "98 1969-12-31      410             0\n",
       "99 1969-12-31      412             0\n",
       "\n",
       "[100 rows x 3 columns]"
      ]
     },
     "execution_count": 33,
     "metadata": {},
     "output_type": "execute_result"
    }
   ],
   "source": [
    "df_session_count.head(100)"
   ]
  },
  {
   "cell_type": "code",
   "execution_count": 34,
   "metadata": {},
   "outputs": [
    {
     "data": {
      "text/plain": [
       "array(['1969-12-31T00:00:00.000000000', '2012-05-31T00:00:00.000000000',\n",
       "       '2012-06-03T00:00:00.000000000', '2012-06-06T00:00:00.000000000',\n",
       "       '2012-06-09T00:00:00.000000000', '2012-06-12T00:00:00.000000000',\n",
       "       '2012-06-15T00:00:00.000000000', '2012-06-18T00:00:00.000000000',\n",
       "       '2012-06-21T00:00:00.000000000', '2012-06-24T00:00:00.000000000',\n",
       "       '2012-06-27T00:00:00.000000000', '2012-06-30T00:00:00.000000000',\n",
       "       '2012-07-03T00:00:00.000000000', '2012-07-06T00:00:00.000000000',\n",
       "       '2012-07-09T00:00:00.000000000', '2012-07-12T00:00:00.000000000',\n",
       "       '2012-07-15T00:00:00.000000000', '2012-07-18T00:00:00.000000000',\n",
       "       '2012-07-21T00:00:00.000000000', '2012-07-24T00:00:00.000000000',\n",
       "       '2012-07-27T00:00:00.000000000', '2012-07-30T00:00:00.000000000',\n",
       "       '2012-08-02T00:00:00.000000000', '2012-08-05T00:00:00.000000000',\n",
       "       '2012-08-08T00:00:00.000000000', '2012-08-11T00:00:00.000000000',\n",
       "       '2012-08-14T00:00:00.000000000', '2012-08-17T00:00:00.000000000',\n",
       "       '2012-08-20T00:00:00.000000000', '2012-08-23T00:00:00.000000000',\n",
       "       '2012-08-26T00:00:00.000000000', '2012-08-29T00:00:00.000000000',\n",
       "       '2012-09-01T00:00:00.000000000', '2012-09-04T00:00:00.000000000',\n",
       "       '2012-09-07T00:00:00.000000000', '2012-09-10T00:00:00.000000000',\n",
       "       '2012-09-13T00:00:00.000000000', '2012-09-16T00:00:00.000000000',\n",
       "       '2012-09-19T00:00:00.000000000', '2012-09-22T00:00:00.000000000',\n",
       "       '2012-09-25T00:00:00.000000000', '2012-09-28T00:00:00.000000000',\n",
       "       '2012-10-01T00:00:00.000000000', '2012-10-04T00:00:00.000000000',\n",
       "       '2012-10-07T00:00:00.000000000', '2012-10-10T00:00:00.000000000',\n",
       "       '2012-10-13T00:00:00.000000000', '2012-10-16T00:00:00.000000000',\n",
       "       '2012-10-19T00:00:00.000000000', '2012-10-22T00:00:00.000000000',\n",
       "       '2012-10-25T00:00:00.000000000', '2012-10-28T00:00:00.000000000',\n",
       "       '2012-10-31T00:00:00.000000000', '2012-11-03T00:00:00.000000000',\n",
       "       '2012-11-06T00:00:00.000000000', '2012-11-09T00:00:00.000000000',\n",
       "       '2012-11-12T00:00:00.000000000', '2012-11-15T00:00:00.000000000',\n",
       "       '2012-11-18T00:00:00.000000000', '2012-11-21T00:00:00.000000000',\n",
       "       '2012-11-24T00:00:00.000000000', '2012-11-27T00:00:00.000000000',\n",
       "       '2012-11-30T00:00:00.000000000', '2012-12-03T00:00:00.000000000',\n",
       "       '2012-12-06T00:00:00.000000000', '2012-12-09T00:00:00.000000000',\n",
       "       '2012-12-12T00:00:00.000000000', '2012-12-15T00:00:00.000000000',\n",
       "       '2012-12-18T00:00:00.000000000', '2012-12-21T00:00:00.000000000',\n",
       "       '2012-12-24T00:00:00.000000000', '2012-12-27T00:00:00.000000000',\n",
       "       '2012-12-30T00:00:00.000000000', '2013-01-02T00:00:00.000000000',\n",
       "       '2013-01-05T00:00:00.000000000', '2013-01-08T00:00:00.000000000',\n",
       "       '2013-01-11T00:00:00.000000000', '2013-01-14T00:00:00.000000000',\n",
       "       '2013-01-17T00:00:00.000000000', '2013-01-20T00:00:00.000000000',\n",
       "       '2013-01-23T00:00:00.000000000', '2013-01-26T00:00:00.000000000',\n",
       "       '2013-01-29T00:00:00.000000000', '2013-02-01T00:00:00.000000000',\n",
       "       '2013-02-04T00:00:00.000000000', '2013-02-07T00:00:00.000000000',\n",
       "       '2013-02-10T00:00:00.000000000', '2013-02-13T00:00:00.000000000',\n",
       "       '2013-02-16T00:00:00.000000000', '2013-02-19T00:00:00.000000000',\n",
       "       '2013-02-22T00:00:00.000000000', '2013-02-25T00:00:00.000000000',\n",
       "       '2013-02-28T00:00:00.000000000', '2013-03-03T00:00:00.000000000',\n",
       "       '2013-03-06T00:00:00.000000000', '2013-03-09T00:00:00.000000000',\n",
       "       '2013-03-12T00:00:00.000000000', '2013-03-15T00:00:00.000000000',\n",
       "       '2013-03-18T00:00:00.000000000', '2013-03-21T00:00:00.000000000',\n",
       "       '2013-03-24T00:00:00.000000000', '2013-03-27T00:00:00.000000000',\n",
       "       '2013-03-30T00:00:00.000000000', '2013-04-02T00:00:00.000000000',\n",
       "       '2013-04-05T00:00:00.000000000', '2013-04-08T00:00:00.000000000',\n",
       "       '2013-04-11T00:00:00.000000000', '2013-04-14T00:00:00.000000000',\n",
       "       '2013-04-17T00:00:00.000000000', '2013-04-20T00:00:00.000000000',\n",
       "       '2013-04-23T00:00:00.000000000', '2013-04-26T00:00:00.000000000',\n",
       "       '2013-04-29T00:00:00.000000000', '2013-05-02T00:00:00.000000000',\n",
       "       '2013-05-05T00:00:00.000000000', '2013-05-08T00:00:00.000000000',\n",
       "       '2013-05-11T00:00:00.000000000', '2013-05-14T00:00:00.000000000',\n",
       "       '2013-05-17T00:00:00.000000000', '2013-05-20T00:00:00.000000000',\n",
       "       '2013-05-23T00:00:00.000000000', '2013-05-26T00:00:00.000000000',\n",
       "       '2013-05-29T00:00:00.000000000', '2013-06-01T00:00:00.000000000',\n",
       "       '2013-06-04T00:00:00.000000000', '2013-06-07T00:00:00.000000000',\n",
       "       '2013-06-10T00:00:00.000000000', '2013-06-13T00:00:00.000000000',\n",
       "       '2013-06-16T00:00:00.000000000', '2013-06-19T00:00:00.000000000',\n",
       "       '2013-06-22T00:00:00.000000000', '2013-06-25T00:00:00.000000000',\n",
       "       '2013-06-28T00:00:00.000000000', '2013-07-01T00:00:00.000000000',\n",
       "       '2013-07-04T00:00:00.000000000', '2013-07-07T00:00:00.000000000',\n",
       "       '2013-07-10T00:00:00.000000000', '2013-07-13T00:00:00.000000000',\n",
       "       '2013-07-16T00:00:00.000000000', '2013-07-19T00:00:00.000000000',\n",
       "       '2013-07-22T00:00:00.000000000', '2013-07-25T00:00:00.000000000',\n",
       "       '2013-07-28T00:00:00.000000000', '2013-07-31T00:00:00.000000000',\n",
       "       '2013-08-03T00:00:00.000000000', '2013-08-06T00:00:00.000000000',\n",
       "       '2013-08-09T00:00:00.000000000', '2013-08-12T00:00:00.000000000',\n",
       "       '2013-08-15T00:00:00.000000000', '2013-08-18T00:00:00.000000000',\n",
       "       '2013-08-21T00:00:00.000000000', '2013-08-24T00:00:00.000000000',\n",
       "       '2013-08-27T00:00:00.000000000', '2013-08-30T00:00:00.000000000',\n",
       "       '2013-09-02T00:00:00.000000000', '2013-09-05T00:00:00.000000000',\n",
       "       '2013-09-08T00:00:00.000000000', '2013-09-11T00:00:00.000000000',\n",
       "       '2013-09-14T00:00:00.000000000', '2013-09-17T00:00:00.000000000',\n",
       "       '2013-09-20T00:00:00.000000000', '2013-09-23T00:00:00.000000000',\n",
       "       '2013-09-26T00:00:00.000000000', '2013-09-29T00:00:00.000000000',\n",
       "       '2013-10-02T00:00:00.000000000', '2013-10-05T00:00:00.000000000',\n",
       "       '2013-10-08T00:00:00.000000000', '2013-10-11T00:00:00.000000000',\n",
       "       '2013-10-14T00:00:00.000000000', '2013-10-17T00:00:00.000000000',\n",
       "       '2013-10-20T00:00:00.000000000', '2013-10-23T00:00:00.000000000',\n",
       "       '2013-10-26T00:00:00.000000000', '2013-10-29T00:00:00.000000000',\n",
       "       '2013-11-01T00:00:00.000000000', '2013-11-04T00:00:00.000000000',\n",
       "       '2013-11-07T00:00:00.000000000', '2013-11-10T00:00:00.000000000',\n",
       "       '2013-11-13T00:00:00.000000000', '2013-11-16T00:00:00.000000000',\n",
       "       '2013-11-19T00:00:00.000000000', '2013-11-22T00:00:00.000000000',\n",
       "       '2013-11-25T00:00:00.000000000', '2013-11-28T00:00:00.000000000',\n",
       "       '2013-12-01T00:00:00.000000000', '2013-12-04T00:00:00.000000000',\n",
       "       '2013-12-07T00:00:00.000000000', '2013-12-10T00:00:00.000000000',\n",
       "       '2013-12-13T00:00:00.000000000', '2013-12-16T00:00:00.000000000',\n",
       "       '2013-12-19T00:00:00.000000000', '2013-12-22T00:00:00.000000000',\n",
       "       '2013-12-25T00:00:00.000000000', '2013-12-28T00:00:00.000000000',\n",
       "       '2013-12-31T00:00:00.000000000', '2014-01-03T00:00:00.000000000',\n",
       "       '2014-01-06T00:00:00.000000000', '2014-01-09T00:00:00.000000000',\n",
       "       '2014-01-12T00:00:00.000000000', '2014-01-15T00:00:00.000000000',\n",
       "       '2014-01-18T00:00:00.000000000', '2014-01-21T00:00:00.000000000',\n",
       "       '2014-01-24T00:00:00.000000000', '2014-01-27T00:00:00.000000000',\n",
       "       '2014-01-30T00:00:00.000000000', '2014-02-02T00:00:00.000000000',\n",
       "       '2014-02-05T00:00:00.000000000', '2014-02-08T00:00:00.000000000',\n",
       "       '2014-02-11T00:00:00.000000000', '2014-02-14T00:00:00.000000000',\n",
       "       '2014-02-17T00:00:00.000000000', '2014-02-20T00:00:00.000000000',\n",
       "       '2014-02-23T00:00:00.000000000', '2014-02-26T00:00:00.000000000',\n",
       "       '2014-03-01T00:00:00.000000000', '2014-03-04T00:00:00.000000000',\n",
       "       '2014-03-07T00:00:00.000000000', '2014-03-10T00:00:00.000000000',\n",
       "       '2014-03-13T00:00:00.000000000', '2014-03-16T00:00:00.000000000',\n",
       "       '2014-03-19T00:00:00.000000000', '2014-03-22T00:00:00.000000000',\n",
       "       '2014-03-25T00:00:00.000000000', '2014-03-28T00:00:00.000000000',\n",
       "       '2014-03-31T00:00:00.000000000', '2014-04-03T00:00:00.000000000',\n",
       "       '2014-04-06T00:00:00.000000000', '2014-04-09T00:00:00.000000000',\n",
       "       '2014-04-12T00:00:00.000000000', '2014-04-15T00:00:00.000000000',\n",
       "       '2014-04-18T00:00:00.000000000', '2014-04-21T00:00:00.000000000',\n",
       "       '2014-04-24T00:00:00.000000000', '2014-04-27T00:00:00.000000000',\n",
       "       '2014-04-30T00:00:00.000000000', '2014-05-03T00:00:00.000000000',\n",
       "       '2014-05-06T00:00:00.000000000', '2014-05-09T00:00:00.000000000',\n",
       "       '2014-05-12T00:00:00.000000000', '2014-05-15T00:00:00.000000000',\n",
       "       '2014-05-18T00:00:00.000000000', '2014-05-21T00:00:00.000000000',\n",
       "       '2014-05-24T00:00:00.000000000', '2014-05-27T00:00:00.000000000',\n",
       "       '2014-05-30T00:00:00.000000000', '2014-06-02T00:00:00.000000000',\n",
       "       '2014-06-05T00:00:00.000000000'], dtype='datetime64[ns]')"
      ]
     },
     "execution_count": 34,
     "metadata": {},
     "output_type": "execute_result"
    }
   ],
   "source": [
    "df_session_count['login_day'].unique()"
   ]
  },
  {
   "cell_type": "code",
   "execution_count": 35,
   "metadata": {},
   "outputs": [
    {
     "data": {
      "text/plain": [
       "207220"
      ]
     },
     "execution_count": 35,
     "metadata": {},
     "output_type": "execute_result"
    }
   ],
   "source": [
    "df_user_suummary['time_stamp'].nunique()"
   ]
  },
  {
   "cell_type": "code",
   "execution_count": 36,
   "metadata": {},
   "outputs": [],
   "source": [
    "unique_id_list = list(df_session_count.loc[df_session_count['num_sessions'] >= 3, 'user_id'].unique())\n",
    "id_list = list(df_session_count.loc[df_session_count['num_sessions'] >= 3, 'user_id'])"
   ]
  },
  {
   "cell_type": "code",
   "execution_count": 37,
   "metadata": {},
   "outputs": [
    {
     "data": {
      "text/plain": [
       "28567"
      ]
     },
     "execution_count": 37,
     "metadata": {},
     "output_type": "execute_result"
    }
   ],
   "source": [
    "len(id_list)"
   ]
  },
  {
   "cell_type": "code",
   "execution_count": 38,
   "metadata": {},
   "outputs": [
    {
     "data": {
      "text/plain": [
       "1076"
      ]
     },
     "execution_count": 38,
     "metadata": {},
     "output_type": "execute_result"
    }
   ],
   "source": [
    "len(unique_id_list)"
   ]
  },
  {
   "cell_type": "code",
   "execution_count": 39,
   "metadata": {},
   "outputs": [
    {
     "data": {
      "text/plain": [
       "12000"
      ]
     },
     "execution_count": 39,
     "metadata": {},
     "output_type": "execute_result"
    }
   ],
   "source": [
    "df_user['user_id'].nunique()"
   ]
  },
  {
   "cell_type": "markdown",
   "metadata": {},
   "source": [
    "Ok this is great we have ruougly 1076 unique users that have officially adopted the platform out of the 12000 users that we have logged session data on, which is rougly 9% conversion rate. Not bad. Let's see if there is any deciding factors between in this group that distinguishes them from the rest"
   ]
  },
  {
   "cell_type": "code",
   "execution_count": 40,
   "metadata": {},
   "outputs": [
    {
     "data": {
      "text/plain": [
       "user_id                         int64\n",
       "creation_source                object\n",
       "last_session_creation_time    float64\n",
       "opted_in_to_mailing_list        int64\n",
       "enabled_for_marketing_drip      int64\n",
       "org_id                          int64\n",
       "invited_by_user_id            float64\n",
       "visited                       float64\n",
       "creation_ts                   float64\n",
       "timestamp_ts                  float64\n",
       "dtype: object"
      ]
     },
     "execution_count": 40,
     "metadata": {},
     "output_type": "execute_result"
    }
   ],
   "source": [
    "df_new_index.dtypes"
   ]
  },
  {
   "cell_type": "code",
   "execution_count": 41,
   "metadata": {},
   "outputs": [],
   "source": [
    "#Add column to say user adopted platform based on our findings earlier\n",
    "def _did_user_adopt_platform(id, id_list):\n",
    "    return 1 if id in id_list else 0\n",
    "\n",
    "df_target_var = df_new_index\n",
    "df_target_var['adopted_platform'] = df_target_var['user_id'].apply(_did_user_adopt_platform, args=(unique_id_list,))"
   ]
  },
  {
   "cell_type": "code",
   "execution_count": 42,
   "metadata": {},
   "outputs": [
    {
     "data": {
      "text/plain": [
       "1076"
      ]
     },
     "execution_count": 42,
     "metadata": {},
     "output_type": "execute_result"
    }
   ],
   "source": [
    "df_target_var.loc[df_target_var['adopted_platform'] == 1, 'user_id'].nunique()"
   ]
  },
  {
   "cell_type": "markdown",
   "metadata": {},
   "source": [
    "Correlations time, let's see how this stands out with a heathmap"
   ]
  },
  {
   "cell_type": "code",
   "execution_count": 43,
   "metadata": {},
   "outputs": [
    {
     "data": {
      "text/plain": [
       "<AxesSubplot:>"
      ]
     },
     "execution_count": 43,
     "metadata": {},
     "output_type": "execute_result"
    },
    {
     "data": {
      "image/png": "[encoded data removed]",
      "text/plain": [
       "<Figure size 432x288 with 2 Axes>"
      ]
     },
     "metadata": {
      "needs_background": "light"
     },
     "output_type": "display_data"
    }
   ],
   "source": [
    "sns.heatmap(df_target_var.corr())"
   ]
  },
  {
   "cell_type": "markdown",
   "metadata": {},
   "source": [
    "Ok there seems to be some correlation between the features and our target but one thing that we can really see are the correlation between categorical variables I think a bar graph should give us a little better insight."
   ]
  },
  {
   "cell_type": "code",
   "execution_count": 85,
   "metadata": {},
   "outputs": [
    {
     "data": {
      "text/plain": [
       "<AxesSubplot:xlabel='adopted_platform'>"
      ]
     },
     "execution_count": 85,
     "metadata": {},
     "output_type": "execute_result"
    },
    {
     "data": {
      "image/png": "[encoded data removed]",
      "text/plain": [
       "<Figure size 432x288 with 1 Axes>"
      ]
     },
     "metadata": {
      "needs_background": "light"
     },
     "output_type": "display_data"
    }
   ],
   "source": [
    "df_plot = df_target_var.groupby(['creation_source', 'adopted_platform']).size().reset_index().pivot(columns='creation_source', index='adopted_platform', values=0)\n",
    "df_plot.plot(kind='bar', stacked=True)"
   ]
  },
  {
   "cell_type": "code",
   "execution_count": 45,
   "metadata": {},
   "outputs": [
    {
     "data": {
      "text/plain": [
       "417"
      ]
     },
     "execution_count": 45,
     "metadata": {},
     "output_type": "execute_result"
    }
   ],
   "source": [
    "df_target_var['org_id'].nunique()"
   ]
  },
  {
   "cell_type": "code",
   "execution_count": 47,
   "metadata": {},
   "outputs": [],
   "source": [
    "df_by_org = df_target_var.loc[df_target_var['adopted_platform'] == 1, ['org_id', 'adopted_platform']].groupby(by=['org_id']).sum().reset_index()"
   ]
  },
  {
   "cell_type": "code",
   "execution_count": 48,
   "metadata": {},
   "outputs": [
    {
     "data": {
      "text/html": [
       "<div>\n",
       "<style scoped>\n",
       "    .dataframe tbody tr th:only-of-type {\n",
       "        vertical-align: middle;\n",
       "    }\n",
       "\n",
       "    .dataframe tbody tr th {\n",
       "        vertical-align: top;\n",
       "    }\n",
       "\n",
       "    .dataframe thead th {\n",
       "        text-align: right;\n",
       "    }\n",
       "</style>\n",
       "<table border=\"1\" class=\"dataframe\">\n",
       "  <thead>\n",
       "    <tr style=\"text-align: right;\">\n",
       "      <th></th>\n",
       "      <th>org_id</th>\n",
       "      <th>adopted_platform</th>\n",
       "    </tr>\n",
       "  </thead>\n",
       "  <tbody>\n",
       "    <tr>\n",
       "      <th>0</th>\n",
       "      <td>0</td>\n",
       "      <td>980</td>\n",
       "    </tr>\n",
       "    <tr>\n",
       "      <th>1</th>\n",
       "      <td>1</td>\n",
       "      <td>2056</td>\n",
       "    </tr>\n",
       "    <tr>\n",
       "      <th>2</th>\n",
       "      <td>2</td>\n",
       "      <td>1769</td>\n",
       "    </tr>\n",
       "    <tr>\n",
       "      <th>3</th>\n",
       "      <td>3</td>\n",
       "      <td>1700</td>\n",
       "    </tr>\n",
       "    <tr>\n",
       "      <th>4</th>\n",
       "      <td>4</td>\n",
       "      <td>1834</td>\n",
       "    </tr>\n",
       "  </tbody>\n",
       "</table>\n",
       "</div>"
      ],
      "text/plain": [
       "   org_id  adopted_platform\n",
       "0       0               980\n",
       "1       1              2056\n",
       "2       2              1769\n",
       "3       3              1700\n",
       "4       4              1834"
      ]
     },
     "execution_count": 48,
     "metadata": {},
     "output_type": "execute_result"
    }
   ],
   "source": [
    "df_by_org.head()"
   ]
  },
  {
   "cell_type": "code",
   "execution_count": 49,
   "metadata": {},
   "outputs": [
    {
     "data": {
      "text/html": [
       "<div>\n",
       "<style scoped>\n",
       "    .dataframe tbody tr th:only-of-type {\n",
       "        vertical-align: middle;\n",
       "    }\n",
       "\n",
       "    .dataframe tbody tr th {\n",
       "        vertical-align: top;\n",
       "    }\n",
       "\n",
       "    .dataframe thead th {\n",
       "        text-align: right;\n",
       "    }\n",
       "</style>\n",
       "<table border=\"1\" class=\"dataframe\">\n",
       "  <thead>\n",
       "    <tr style=\"text-align: right;\">\n",
       "      <th></th>\n",
       "      <th>org_id</th>\n",
       "      <th>adopted_platform</th>\n",
       "    </tr>\n",
       "  </thead>\n",
       "  <tbody>\n",
       "    <tr>\n",
       "      <th>1</th>\n",
       "      <td>1</td>\n",
       "      <td>2056</td>\n",
       "    </tr>\n",
       "    <tr>\n",
       "      <th>13</th>\n",
       "      <td>13</td>\n",
       "      <td>2012</td>\n",
       "    </tr>\n",
       "    <tr>\n",
       "      <th>61</th>\n",
       "      <td>62</td>\n",
       "      <td>1959</td>\n",
       "    </tr>\n",
       "    <tr>\n",
       "      <th>4</th>\n",
       "      <td>4</td>\n",
       "      <td>1834</td>\n",
       "    </tr>\n",
       "    <tr>\n",
       "      <th>2</th>\n",
       "      <td>2</td>\n",
       "      <td>1769</td>\n",
       "    </tr>\n",
       "  </tbody>\n",
       "</table>\n",
       "</div>"
      ],
      "text/plain": [
       "    org_id  adopted_platform\n",
       "1        1              2056\n",
       "13      13              2012\n",
       "61      62              1959\n",
       "4        4              1834\n",
       "2        2              1769"
      ]
     },
     "execution_count": 49,
     "metadata": {},
     "output_type": "execute_result"
    }
   ],
   "source": [
    "df_by_org.sort_values(by=['adopted_platform'], ascending=False).head()"
   ]
  },
  {
   "cell_type": "code",
   "execution_count": 50,
   "metadata": {},
   "outputs": [
    {
     "data": {
      "text/plain": [
       "count     372.000000\n",
       "mean      506.013441\n",
       "std       394.370599\n",
       "min        12.000000\n",
       "25%       193.000000\n",
       "50%       415.000000\n",
       "75%       715.500000\n",
       "max      2056.000000\n",
       "Name: adopted_platform, dtype: float64"
      ]
     },
     "execution_count": 50,
     "metadata": {},
     "output_type": "execute_result"
    }
   ],
   "source": [
    "df_by_org['adopted_platform'].describe()"
   ]
  },
  {
   "cell_type": "markdown",
   "metadata": {},
   "source": [
    "Intersting insight it appears that all across the board for the various sign-up sources the adopted users is most by those from an org invite. That makes sense because if the org invites you to a platform its usually for work purposes and you will most liekly find yourself using it. However, even there the conversion percentage (in comparison to its counterparts significantly higher) is still kind of low. Still we aren't interested in why the conversion rates are low for this problem we want to know what were the contributing factors that leads to conversion rates. Let's continue."
   ]
  },
  {
   "cell_type": "code",
   "execution_count": 55,
   "metadata": {},
   "outputs": [
    {
     "data": {
      "text/plain": [
       "<AxesSubplot:xlabel='adopted_platform'>"
      ]
     },
     "execution_count": 55,
     "metadata": {},
     "output_type": "execute_result"
    },
    {
     "data": {
      "image/png": "[encoded data removed]",
      "text/plain": [
       "<Figure size 432x288 with 1 Axes>"
      ]
     },
     "metadata": {
      "needs_background": "light"
     },
     "output_type": "display_data"
    }
   ],
   "source": [
    "df_plot = df_target_var.groupby(['opted_in_to_mailing_list', 'adopted_platform']).size().reset_index().pivot(columns='opted_in_to_mailing_list', index='adopted_platform', values=0)\n",
    "df_plot.plot(kind='bar', stacked=True)\n",
    "# _ = sns.countplot(x='opted_in_to_mailing_list', data=df_target_var, hue='adopted_platform')\n",
    "# _ = plt.xticks(rotation=90)"
   ]
  },
  {
   "cell_type": "code",
   "execution_count": 78,
   "metadata": {},
   "outputs": [
    {
     "data": {
      "text/plain": [
       "<AxesSubplot:xlabel='adopted_platform'>"
      ]
     },
     "execution_count": 78,
     "metadata": {},
     "output_type": "execute_result"
    },
    {
     "data": {
      "image/png": "[encoded data removed]",
      "text/plain": [
       "<Figure size 432x288 with 1 Axes>"
      ]
     },
     "metadata": {
      "needs_background": "light"
     },
     "output_type": "display_data"
    }
   ],
   "source": [
    "df_plot = df_target_var.groupby(['enabled_for_marketing_drip', 'adopted_platform']).size().reset_index().pivot(columns='enabled_for_marketing_drip', index='adopted_platform', values=0)\n",
    "df_plot.plot(kind='bar', stacked=True)\n",
    "# _ = sns.countplot(x='enabled_for_marketing_drip', data=df_target_var, hue='adopted_platform')\n",
    "# _ = plt.xticks(rotation=90)"
   ]
  },
  {
   "cell_type": "markdown",
   "metadata": {},
   "source": [
    "This is intersting it appears that for some of these features its hard to tell the percentage difference between the two groups, but one thing is certain that from a value perspective both groups that opted to be in the mailing list as well as enabled for marketing drop are indicators of more people getting adopted. Let's see if that holds up porportionally."
   ]
  },
  {
   "cell_type": "markdown",
   "metadata": {},
   "source": [
    "Sidenote - I want to see something about people with no invite id assocaited with their name if they overlap with people who signed up for themselves. I think we can verify with a t-test :)!!"
   ]
  },
  {
   "cell_type": "code",
   "execution_count": 69,
   "metadata": {},
   "outputs": [
    {
     "data": {
      "text/plain": [
       "Ttest_indResult(statistic=0.0, pvalue=1.0)"
      ]
     },
     "execution_count": 69,
     "metadata": {},
     "output_type": "execute_result"
    }
   ],
   "source": [
    "df_target_var['last_session_creation_time'].fillna(-1, inplace=True)\n",
    "stats.ttest_ind(df_target_var.loc[df_target_var['creation_source'].isin(['SIGNUP', 'SIGNUP_GOOGLE_AUTH', 'PERSONAL_PROJECTS']), 'last_session_creation_time'],df_target_var.loc[df_target_var['invited_by_user_id'] == -1, 'last_session_creation_time'])"
   ]
  },
  {
   "cell_type": "markdown",
   "metadata": {},
   "source": [
    "Fantastic we can confirm that these two groups are the same with the p value being one. Essentially there is no difference between the two."
   ]
  },
  {
   "cell_type": "code",
   "execution_count": 70,
   "metadata": {},
   "outputs": [
    {
     "data": {
      "text/plain": [
       "visited                       3177\n",
       "user_id                          0\n",
       "creation_source                  0\n",
       "last_session_creation_time       0\n",
       "opted_in_to_mailing_list         0\n",
       "enabled_for_marketing_drip       0\n",
       "org_id                           0\n",
       "invited_by_user_id               0\n",
       "creation_ts                      0\n",
       "timestamp_ts                     0\n",
       "adopted_platform                 0\n",
       "dtype: int64"
      ]
     },
     "execution_count": 70,
     "metadata": {},
     "output_type": "execute_result"
    }
   ],
   "source": [
    "df_target_var.isna().sum().sort_values(ascending=False)"
   ]
  },
  {
   "cell_type": "markdown",
   "metadata": {},
   "source": [
    "Sidenote - Let's do one more comparison between those who visited and those who did not or the ones responses were recorded regarding their conversion rates."
   ]
  },
  {
   "cell_type": "code",
   "execution_count": 71,
   "metadata": {},
   "outputs": [
    {
     "data": {
      "text/plain": [
       "array([ 1., nan])"
      ]
     },
     "execution_count": 71,
     "metadata": {},
     "output_type": "execute_result"
    }
   ],
   "source": [
    "df_target_var['visited'].unique()"
   ]
  },
  {
   "cell_type": "code",
   "execution_count": 72,
   "metadata": {},
   "outputs": [
    {
     "data": {
      "text/plain": [
       "login_day\n",
       "2014-04-22 03:53:30    1.0\n",
       "2013-11-15 03:45:04    1.0\n",
       "2013-11-29 03:45:04    1.0\n",
       "2013-12-09 03:45:04    1.0\n",
       "2013-12-25 03:45:04    1.0\n",
       "                      ... \n",
       "2013-09-06 06:14:15    1.0\n",
       "2013-01-15 18:28:37    1.0\n",
       "2014-04-27 12:45:16    1.0\n",
       "2012-06-02 11:55:59    1.0\n",
       "2014-01-26 08:57:12    1.0\n",
       "Name: visited, Length: 211094, dtype: float64"
      ]
     },
     "execution_count": 72,
     "metadata": {},
     "output_type": "execute_result"
    }
   ],
   "source": [
    "df_target_var['visited'].fillna(0)"
   ]
  },
  {
   "cell_type": "code",
   "execution_count": 73,
   "metadata": {},
   "outputs": [
    {
     "data": {
      "text/plain": [
       "<AxesSubplot:xlabel='adopted_platform'>"
      ]
     },
     "execution_count": 73,
     "metadata": {},
     "output_type": "execute_result"
    },
    {
     "data": {
      "image/png": "[encoded data removed]",
      "text/plain": [
       "<Figure size 432x288 with 1 Axes>"
      ]
     },
     "metadata": {
      "needs_background": "light"
     },
     "output_type": "display_data"
    }
   ],
   "source": [
    "df_plot = df_target_var.groupby(['visited', 'adopted_platform']).size().reset_index().pivot(columns='visited', index='adopted_platform', values=0)\n",
    "df_plot.plot(kind='bar', stacked=True)"
   ]
  },
  {
   "cell_type": "markdown",
   "metadata": {},
   "source": [
    "Ok interesting it seems that a heavy indicator of whether the user converted seems to be related to the them visited or not. I'm not sure if this is something we can rely on because of the fact we have about users who have been classified as adopted the platforms (not unique by the way). I think this may be a red flag just for another flag that we saw that the users that did not visit weren't designated as a zero but actually designated as a null value. I will go ahead and drop this column."
   ]
  },
  {
   "cell_type": "code",
   "execution_count": 74,
   "metadata": {},
   "outputs": [],
   "source": [
    "df_target_var.drop(columns=['visited'], inplace=True)"
   ]
  },
  {
   "cell_type": "code",
   "execution_count": 75,
   "metadata": {},
   "outputs": [
    {
     "data": {
      "text/plain": [
       "user_id                       0\n",
       "creation_source               0\n",
       "last_session_creation_time    0\n",
       "opted_in_to_mailing_list      0\n",
       "enabled_for_marketing_drip    0\n",
       "org_id                        0\n",
       "invited_by_user_id            0\n",
       "creation_ts                   0\n",
       "timestamp_ts                  0\n",
       "adopted_platform              0\n",
       "dtype: int64"
      ]
     },
     "execution_count": 75,
     "metadata": {},
     "output_type": "execute_result"
    }
   ],
   "source": [
    "df_target_var.isna().sum().sort_values(ascending=False)"
   ]
  },
  {
   "cell_type": "code",
   "execution_count": 76,
   "metadata": {},
   "outputs": [
    {
     "data": {
      "text/plain": [
       "(211094, 10)"
      ]
     },
     "execution_count": 76,
     "metadata": {},
     "output_type": "execute_result"
    }
   ],
   "source": [
    "df_target_var.shape"
   ]
  },
  {
   "cell_type": "code",
   "execution_count": null,
   "metadata": {},
   "outputs": [],
   "source": []
  }
 ],
 "metadata": {
  "kernelspec": {
   "display_name": "Python 3.10.4 ('capstone3': venv)",
   "language": "python",
   "name": "python3"
  },
  "language_info": {
   "codemirror_mode": {
    "name": "ipython",
    "version": 3
   },
   "file_extension": ".py",
   "mimetype": "text/x-python",
   "name": "python",
   "nbconvert_exporter": "python",
   "pygments_lexer": "ipython3",
   "version": "3.10.4"
  },
  "orig_nbformat": 4,
  "vscode": {
   "interpreter": {
    "hash": "e3dfcd49a584930e2de8fd549bdaea9b8a485f151fdf1b3c0eec06dbe3ff4ca7"
   }
  }
 },
 "nbformat": 4,
 "nbformat_minor": 2
}
